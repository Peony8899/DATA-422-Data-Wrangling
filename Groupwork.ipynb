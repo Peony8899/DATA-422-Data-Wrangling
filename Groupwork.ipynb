{
 "cells": [
  {
   "cell_type": "markdown",
   "metadata": {},
   "source": [
    "## Julia part (30 marks)"
   ]
  },
  {
   "cell_type": "code",
   "execution_count": 31,
   "metadata": {},
   "outputs": [
    {
     "name": "stderr",
     "output_type": "stream",
     "text": [
      "\u001b[32m\u001b[1m   Resolving\u001b[22m\u001b[39m package versions...\n",
      "\u001b[32m\u001b[1m  No Changes\u001b[22m\u001b[39m to `C:\\Users\\Pony\\.julia\\environments\\v1.9\\Project.toml`\n",
      "\u001b[32m\u001b[1m  No Changes\u001b[22m\u001b[39m to `C:\\Users\\Pony\\.julia\\environments\\v1.9\\Manifest.toml`\n",
      "\u001b[32m\u001b[1m   Resolving\u001b[22m\u001b[39m package versions...\n",
      "\u001b[32m\u001b[1m  No Changes\u001b[22m\u001b[39m to `C:\\Users\\Pony\\.julia\\environments\\v1.9\\Project.toml`\n",
      "\u001b[32m\u001b[1m  No Changes\u001b[22m\u001b[39m to `C:\\Users\\Pony\\.julia\\environments\\v1.9\\Manifest.toml`\n",
      "\u001b[32m\u001b[1m   Resolving\u001b[22m\u001b[39m package versions...\n",
      "\u001b[32m\u001b[1m  No Changes\u001b[22m\u001b[39m to `C:\\Users\\Pony\\.julia\\environments\\v1.9\\Project.toml`\n",
      "\u001b[32m\u001b[1m  No Changes\u001b[22m\u001b[39m to `C:\\Users\\Pony\\.julia\\environments\\v1.9\\Manifest.toml`\n",
      "\u001b[32m\u001b[1m   Resolving\u001b[22m\u001b[39m package versions...\n",
      "\u001b[32m\u001b[1m  No Changes\u001b[22m\u001b[39m to `C:\\Users\\Pony\\.julia\\environments\\v1.9\\Project.toml`\n",
      "\u001b[32m\u001b[1m  No Changes\u001b[22m\u001b[39m to `C:\\Users\\Pony\\.julia\\environments\\v1.9\\Manifest.toml`\n"
     ]
    }
   ],
   "source": [
    "#Install package\n",
    "using Pkg\n",
    "Pkg.add(\"StatsPlots\")\n",
    "Pkg.add(\"DataFrames\")\n",
    "Pkg.add(\"VegaLite\")\n",
    "Pkg.add(\"Query\")"
   ]
  },
  {
   "cell_type": "code",
   "execution_count": 3,
   "metadata": {},
   "outputs": [
    {
     "name": "stderr",
     "output_type": "stream",
     "text": [
      "\u001b[32m\u001b[1m   Resolving\u001b[22m\u001b[39m package versions...\n",
      "\u001b[32m\u001b[1m  No Changes\u001b[22m\u001b[39m to `C:\\Users\\Pony\\.julia\\environments\\v1.9\\Project.toml`\n",
      "\u001b[32m\u001b[1m  No Changes\u001b[22m\u001b[39m to `C:\\Users\\Pony\\.julia\\environments\\v1.9\\Manifest.toml`\n",
      "\u001b[32m\u001b[1m   Resolving\u001b[22m\u001b[39m package versions...\n",
      "\u001b[32m\u001b[1m  No Changes\u001b[22m\u001b[39m to `C:\\Users\\Pony\\.julia\\environments\\v1.9\\Project.toml`\n",
      "\u001b[32m\u001b[1m  No Changes\u001b[22m\u001b[39m to `C:\\Users\\Pony\\.julia\\environments\\v1.9\\Manifest.toml`\n"
     ]
    }
   ],
   "source": [
    "using Pkg\n",
    "Pkg.add(\"HTTP\")\n",
    "Pkg.add(\"JSON\")\n"
   ]
  },
  {
   "cell_type": "code",
   "execution_count": 6,
   "metadata": {},
   "outputs": [],
   "source": [
    "using HTTP\n",
    "using DataFrames\n",
    "using CSV"
   ]
  },
  {
   "cell_type": "code",
   "execution_count": 7,
   "metadata": {},
   "outputs": [],
   "source": [
    "using JSON"
   ]
  },
  {
   "cell_type": "code",
   "execution_count": 3,
   "metadata": {},
   "outputs": [],
   "source": [
    "using CSV\n",
    "using DataFrames\n",
    "using Statistics\n",
    "using StatsPlots\n",
    "using Dates\n",
    "using Query"
   ]
  },
  {
   "cell_type": "code",
   "execution_count": 8,
   "metadata": {},
   "outputs": [
    {
     "data": {
      "text/html": [
       "<div><div style = \"float: left;\"><span>15626×16 DataFrame</span></div><div style = \"float: right;\"><span style = \"font-style: italic;\">15601 rows omitted</span></div><div style = \"clear: both;\"></div></div><div class = \"data-frame\" style = \"overflow-x: scroll;\"><table class = \"data-frame\" style = \"margin-bottom: 6px;\"><thead><tr class = \"header\"><th class = \"rowNumber\" style = \"font-weight: bold; text-align: right;\">Row</th><th style = \"text-align: left;\">Crash.identifier</th><th style = \"text-align: left;\">Crash.year</th><th style = \"text-align: left;\">Crash.date</th><th style = \"text-align: left;\">Crash.time</th><th style = \"text-align: left;\">Crash.severity</th><th style = \"text-align: left;\">Fatal.injury.count</th><th style = \"text-align: left;\">Serious.injury.count</th><th style = \"text-align: left;\">Minor.injury.count</th><th style = \"text-align: left;\">Regional.council</th><th style = \"text-align: left;\">Vehicle.type</th><th style = \"text-align: left;\">Make.</th><th style = \"text-align: left;\">Social.Cost</th><th style = \"text-align: left;\">Longitude</th><th style = \"text-align: left;\">Latitude</th><th style = \"text-align: left;\">Road.category</th><th style = \"text-align: left;\">Natural.Light</th></tr><tr class = \"subheader headerLastRow\"><th class = \"rowNumber\" style = \"font-weight: bold; text-align: right;\"></th><th title = \"Int64\" style = \"text-align: left;\">Int64</th><th title = \"Int64\" style = \"text-align: left;\">Int64</th><th title = \"String\" style = \"text-align: left;\">String</th><th title = \"Time\" style = \"text-align: left;\">Time</th><th title = \"String\" style = \"text-align: left;\">String</th><th title = \"Int64\" style = \"text-align: left;\">Int64</th><th title = \"Int64\" style = \"text-align: left;\">Int64</th><th title = \"Int64\" style = \"text-align: left;\">Int64</th><th title = \"String\" style = \"text-align: left;\">String</th><th title = \"String\" style = \"text-align: left;\">String</th><th title = \"String\" style = \"text-align: left;\">String</th><th title = \"Float64\" style = \"text-align: left;\">Float64</th><th title = \"Float64\" style = \"text-align: left;\">Float64</th><th title = \"Float64\" style = \"text-align: left;\">Float64</th><th title = \"String\" style = \"text-align: left;\">String</th><th title = \"String\" style = \"text-align: left;\">String</th></tr></thead><tbody><tr><td class = \"rowNumber\" style = \"font-weight: bold; text-align: right;\">1</td><td style = \"text-align: right;\">201800005</td><td style = \"text-align: right;\">2018</td><td style = \"text-align: left;\">2018/1/4</td><td style = \"text-align: left;\">16:54:00</td><td style = \"text-align: left;\">Fatal Crash</td><td style = \"text-align: right;\">2</td><td style = \"text-align: right;\">3</td><td style = \"text-align: right;\">0</td><td style = \"text-align: left;\">Auckland Region</td><td style = \"text-align: left;\">Car/Wagon</td><td style = \"text-align: left;\">NISSAN</td><td style = \"text-align: right;\">4.963e6</td><td style = \"text-align: right;\">174.437</td><td style = \"text-align: right;\">-36.7459</td><td style = \"text-align: left;\">Major rural</td><td style = \"text-align: left;\">Overcast</td></tr><tr><td class = \"rowNumber\" style = \"font-weight: bold; text-align: right;\">2</td><td style = \"text-align: right;\">201800011</td><td style = \"text-align: right;\">2018</td><td style = \"text-align: left;\">2018/1/13</td><td style = \"text-align: left;\">23:40:00</td><td style = \"text-align: left;\">Fatal Crash</td><td style = \"text-align: right;\">1</td><td style = \"text-align: right;\">2</td><td style = \"text-align: right;\">1</td><td style = \"text-align: left;\">Bay of Plenty Region</td><td style = \"text-align: left;\">Van</td><td style = \"text-align: left;\">NISSAN</td><td style = \"text-align: right;\">5.232e6</td><td style = \"text-align: right;\">175.971</td><td style = \"text-align: right;\">-37.6502</td><td style = \"text-align: left;\">Major rural</td><td style = \"text-align: left;\">Dark</td></tr><tr><td class = \"rowNumber\" style = \"font-weight: bold; text-align: right;\">3</td><td style = \"text-align: right;\">201800014</td><td style = \"text-align: right;\">2018</td><td style = \"text-align: left;\">2018/1/15</td><td style = \"text-align: left;\">17:20:00</td><td style = \"text-align: left;\">Fatal Crash</td><td style = \"text-align: right;\">1</td><td style = \"text-align: right;\">0</td><td style = \"text-align: right;\">0</td><td style = \"text-align: left;\">Canterbury Region</td><td style = \"text-align: left;\">Motorcycle</td><td style = \"text-align: left;\">DUCATI</td><td style = \"text-align: right;\">5.223e6</td><td style = \"text-align: right;\">172.775</td><td style = \"text-align: right;\">-43.6725</td><td style = \"text-align: left;\">Medium rural</td><td style = \"text-align: left;\">Bright sun</td></tr><tr><td class = \"rowNumber\" style = \"font-weight: bold; text-align: right;\">4</td><td style = \"text-align: right;\">201800012</td><td style = \"text-align: right;\">2018</td><td style = \"text-align: left;\">2018/1/14</td><td style = \"text-align: left;\">08:30:00</td><td style = \"text-align: left;\">Fatal Crash</td><td style = \"text-align: right;\">1</td><td style = \"text-align: right;\">0</td><td style = \"text-align: right;\">0</td><td style = \"text-align: left;\">Waikato Region</td><td style = \"text-align: left;\">Motorcycle</td><td style = \"text-align: left;\">YAMAHA</td><td style = \"text-align: right;\">4.837e6</td><td style = \"text-align: right;\">174.988</td><td style = \"text-align: right;\">-37.3338</td><td style = \"text-align: left;\">Medium rural</td><td style = \"text-align: left;\">Bright sun</td></tr><tr><td class = \"rowNumber\" style = \"font-weight: bold; text-align: right;\">5</td><td style = \"text-align: right;\">201800016</td><td style = \"text-align: right;\">2018</td><td style = \"text-align: left;\">2018/1/15</td><td style = \"text-align: left;\">16:10:00</td><td style = \"text-align: left;\">Fatal Crash</td><td style = \"text-align: right;\">1</td><td style = \"text-align: right;\">0</td><td style = \"text-align: right;\">3</td><td style = \"text-align: left;\">Manawatu-Wanganui Region</td><td style = \"text-align: left;\">Car/Wagon</td><td style = \"text-align: left;\">BMW</td><td style = \"text-align: right;\">5.264e6</td><td style = \"text-align: right;\">175.589</td><td style = \"text-align: right;\">-40.3092</td><td style = \"text-align: left;\">Major rural</td><td style = \"text-align: left;\">Bright sun</td></tr><tr><td class = \"rowNumber\" style = \"font-weight: bold; text-align: right;\">6</td><td style = \"text-align: right;\">201800018</td><td style = \"text-align: right;\">2018</td><td style = \"text-align: left;\">2018/1/17</td><td style = \"text-align: left;\">14:24:00</td><td style = \"text-align: left;\">Fatal Crash</td><td style = \"text-align: right;\">1</td><td style = \"text-align: right;\">0</td><td style = \"text-align: right;\">1</td><td style = \"text-align: left;\">Canterbury Region</td><td style = \"text-align: left;\">Car/Wagon</td><td style = \"text-align: left;\">MAZDA</td><td style = \"text-align: right;\">5.223e6</td><td style = \"text-align: right;\">171.202</td><td style = \"text-align: right;\">-44.4802</td><td style = \"text-align: left;\">Major urban</td><td style = \"text-align: left;\">Overcast</td></tr><tr><td class = \"rowNumber\" style = \"font-weight: bold; text-align: right;\">7</td><td style = \"text-align: right;\">201800002</td><td style = \"text-align: right;\">2018</td><td style = \"text-align: left;\">2018/1/1</td><td style = \"text-align: left;\">17:21:00</td><td style = \"text-align: left;\">Fatal Crash</td><td style = \"text-align: right;\">1</td><td style = \"text-align: right;\">1</td><td style = \"text-align: right;\">0</td><td style = \"text-align: left;\">Wellington Region</td><td style = \"text-align: left;\">Motorcycle</td><td style = \"text-align: left;\">HARLEY DAVIDSON</td><td style = \"text-align: right;\">4.958e6</td><td style = \"text-align: right;\">175.699</td><td style = \"text-align: right;\">-40.9505</td><td style = \"text-align: left;\">Arterial rural</td><td style = \"text-align: left;\">Bright sun</td></tr><tr><td class = \"rowNumber\" style = \"font-weight: bold; text-align: right;\">8</td><td style = \"text-align: right;\">201800003</td><td style = \"text-align: right;\">2018</td><td style = \"text-align: left;\">2018/1/2</td><td style = \"text-align: left;\">22:40:00</td><td style = \"text-align: left;\">Fatal Crash</td><td style = \"text-align: right;\">1</td><td style = \"text-align: right;\">1</td><td style = \"text-align: right;\">0</td><td style = \"text-align: left;\">Canterbury Region</td><td style = \"text-align: left;\">Car/Wagon</td><td style = \"text-align: left;\">NISSAN</td><td style = \"text-align: right;\">4.629e6</td><td style = \"text-align: right;\">172.536</td><td style = \"text-align: right;\">-43.5173</td><td style = \"text-align: left;\">Major urban</td><td style = \"text-align: left;\">Dark</td></tr><tr><td class = \"rowNumber\" style = \"font-weight: bold; text-align: right;\">9</td><td style = \"text-align: right;\">201800008</td><td style = \"text-align: right;\">2018</td><td style = \"text-align: left;\">2018/1/7</td><td style = \"text-align: left;\">09:35:00</td><td style = \"text-align: left;\">Fatal Crash</td><td style = \"text-align: right;\">1</td><td style = \"text-align: right;\">0</td><td style = \"text-align: right;\">0</td><td style = \"text-align: left;\">Canterbury Region</td><td style = \"text-align: left;\">Motorcycle</td><td style = \"text-align: left;\">KAWASAKI</td><td style = \"text-align: right;\">5.223e6</td><td style = \"text-align: right;\">172.924</td><td style = \"text-align: right;\">-43.7522</td><td style = \"text-align: left;\">Major urban</td><td style = \"text-align: left;\">Bright sun</td></tr><tr><td class = \"rowNumber\" style = \"font-weight: bold; text-align: right;\">10</td><td style = \"text-align: right;\">201800034</td><td style = \"text-align: right;\">2018</td><td style = \"text-align: left;\">2018/1/18</td><td style = \"text-align: left;\">14:14:00</td><td style = \"text-align: left;\">Fatal Crash</td><td style = \"text-align: right;\">1</td><td style = \"text-align: right;\">1</td><td style = \"text-align: right;\">0</td><td style = \"text-align: left;\">Northland Region</td><td style = \"text-align: left;\">Car/Wagon</td><td style = \"text-align: left;\">NISSAN</td><td style = \"text-align: right;\">4.981e6</td><td style = \"text-align: right;\">174.41</td><td style = \"text-align: right;\">-35.6451</td><td style = \"text-align: left;\">Arterial rural</td><td style = \"text-align: left;\">Overcast</td></tr><tr><td class = \"rowNumber\" style = \"font-weight: bold; text-align: right;\">11</td><td style = \"text-align: right;\">201800041</td><td style = \"text-align: right;\">2018</td><td style = \"text-align: left;\">2018/2/8</td><td style = \"text-align: left;\">15:50:00</td><td style = \"text-align: left;\">Fatal Crash</td><td style = \"text-align: right;\">1</td><td style = \"text-align: right;\">1</td><td style = \"text-align: right;\">0</td><td style = \"text-align: left;\">West Coast Region</td><td style = \"text-align: left;\">Car/Wagon</td><td style = \"text-align: left;\">BMW</td><td style = \"text-align: right;\">4.506e6</td><td style = \"text-align: right;\">171.44</td><td style = \"text-align: right;\">-42.7347</td><td style = \"text-align: left;\">Major rural</td><td style = \"text-align: left;\">Bright sun</td></tr><tr><td class = \"rowNumber\" style = \"font-weight: bold; text-align: right;\">12</td><td style = \"text-align: right;\">201800045</td><td style = \"text-align: right;\">2018</td><td style = \"text-align: left;\">2018/2/10</td><td style = \"text-align: left;\">09:48:00</td><td style = \"text-align: left;\">Fatal Crash</td><td style = \"text-align: right;\">2</td><td style = \"text-align: right;\">0</td><td style = \"text-align: right;\">0</td><td style = \"text-align: left;\">Waikato Region</td><td style = \"text-align: left;\">Car/Wagon</td><td style = \"text-align: left;\">MITSUBISHI</td><td style = \"text-align: right;\">5.61e6</td><td style = \"text-align: right;\">175.19</td><td style = \"text-align: right;\">-38.2298</td><td style = \"text-align: left;\">Major rural</td><td style = \"text-align: left;\">Overcast</td></tr><tr><td class = \"rowNumber\" style = \"font-weight: bold; text-align: right;\">13</td><td style = \"text-align: right;\">201800009</td><td style = \"text-align: right;\">2018</td><td style = \"text-align: left;\">2018/1/7</td><td style = \"text-align: left;\">14:45:00</td><td style = \"text-align: left;\">Fatal Crash</td><td style = \"text-align: right;\">1</td><td style = \"text-align: right;\">3</td><td style = \"text-align: right;\">0</td><td style = \"text-align: left;\">Waikato Region</td><td style = \"text-align: left;\">Car/Wagon</td><td style = \"text-align: left;\">HONDA</td><td style = \"text-align: right;\">5.61e6</td><td style = \"text-align: right;\">175.764</td><td style = \"text-align: right;\">-37.7896</td><td style = \"text-align: left;\">Major urban</td><td style = \"text-align: left;\">Bright sun</td></tr><tr><td style = \"text-align: right;\">&vellip;</td><td style = \"text-align: right;\">&vellip;</td><td style = \"text-align: right;\">&vellip;</td><td style = \"text-align: right;\">&vellip;</td><td style = \"text-align: right;\">&vellip;</td><td style = \"text-align: right;\">&vellip;</td><td style = \"text-align: right;\">&vellip;</td><td style = \"text-align: right;\">&vellip;</td><td style = \"text-align: right;\">&vellip;</td><td style = \"text-align: right;\">&vellip;</td><td style = \"text-align: right;\">&vellip;</td><td style = \"text-align: right;\">&vellip;</td><td style = \"text-align: right;\">&vellip;</td><td style = \"text-align: right;\">&vellip;</td><td style = \"text-align: right;\">&vellip;</td><td style = \"text-align: right;\">&vellip;</td><td style = \"text-align: right;\">&vellip;</td></tr><tr><td class = \"rowNumber\" style = \"font-weight: bold; text-align: right;\">15615</td><td style = \"text-align: right;\">2018101571</td><td style = \"text-align: right;\">2018</td><td style = \"text-align: left;\">2018/12/14</td><td style = \"text-align: left;\">18:50:00</td><td style = \"text-align: left;\">Non-Injury Crash</td><td style = \"text-align: right;\">0</td><td style = \"text-align: right;\">0</td><td style = \"text-align: right;\">0</td><td style = \"text-align: left;\">Canterbury Region</td><td style = \"text-align: left;\">Car/Wagon</td><td style = \"text-align: left;\">Mazda</td><td style = \"text-align: right;\">24147.0</td><td style = \"text-align: right;\">172.638</td><td style = \"text-align: right;\">-43.5353</td><td style = \"text-align: left;\">Medium urban</td><td style = \"text-align: left;\">Overcast</td></tr><tr><td class = \"rowNumber\" style = \"font-weight: bold; text-align: right;\">15616</td><td style = \"text-align: right;\">2018101623</td><td style = \"text-align: right;\">2018</td><td style = \"text-align: left;\">2018/12/15</td><td style = \"text-align: left;\">13:20:00</td><td style = \"text-align: left;\">Non-Injury Crash</td><td style = \"text-align: right;\">0</td><td style = \"text-align: right;\">0</td><td style = \"text-align: right;\">0</td><td style = \"text-align: left;\">Marlborough Region</td><td style = \"text-align: left;\">SUV</td><td style = \"text-align: left;\">Volkswagen</td><td style = \"text-align: right;\">24147.0</td><td style = \"text-align: right;\">173.572</td><td style = \"text-align: right;\">-41.2978</td><td style = \"text-align: left;\">Major rural</td><td style = \"text-align: left;\">Bright sun</td></tr><tr><td class = \"rowNumber\" style = \"font-weight: bold; text-align: right;\">15617</td><td style = \"text-align: right;\">2018101628</td><td style = \"text-align: right;\">2018</td><td style = \"text-align: left;\">2018/12/15</td><td style = \"text-align: left;\">23:04:00</td><td style = \"text-align: left;\">Non-Injury Crash</td><td style = \"text-align: right;\">0</td><td style = \"text-align: right;\">0</td><td style = \"text-align: right;\">0</td><td style = \"text-align: left;\">Waikato Region</td><td style = \"text-align: left;\">Car/Wagon</td><td style = \"text-align: left;\">Chrysler</td><td style = \"text-align: right;\">39209.0</td><td style = \"text-align: right;\">175.26</td><td style = \"text-align: right;\">-37.8023</td><td style = \"text-align: left;\">Major urban</td><td style = \"text-align: left;\">Dark</td></tr><tr><td class = \"rowNumber\" style = \"font-weight: bold; text-align: right;\">15618</td><td style = \"text-align: right;\">2018101681</td><td style = \"text-align: right;\">2018</td><td style = \"text-align: left;\">2018/11/1</td><td style = \"text-align: left;\">12:30:00</td><td style = \"text-align: left;\">Non-Injury Crash</td><td style = \"text-align: right;\">0</td><td style = \"text-align: right;\">0</td><td style = \"text-align: right;\">0</td><td style = \"text-align: left;\">Waikato Region</td><td style = \"text-align: left;\">Car/Wagon</td><td style = \"text-align: left;\">TOYOTA</td><td style = \"text-align: right;\">39209.0</td><td style = \"text-align: right;\">175.832</td><td style = \"text-align: right;\">-37.8426</td><td style = \"text-align: left;\">Major rural</td><td style = \"text-align: left;\">Bright sun</td></tr><tr><td class = \"rowNumber\" style = \"font-weight: bold; text-align: right;\">15619</td><td style = \"text-align: right;\">2018101684</td><td style = \"text-align: right;\">2018</td><td style = \"text-align: left;\">2018/11/1</td><td style = \"text-align: left;\">14:10:00</td><td style = \"text-align: left;\">Non-Injury Crash</td><td style = \"text-align: right;\">0</td><td style = \"text-align: right;\">0</td><td style = \"text-align: right;\">0</td><td style = \"text-align: left;\">Manawatu-Wanganui Region</td><td style = \"text-align: left;\">Car/Wagon</td><td style = \"text-align: left;\">TOYOTA</td><td style = \"text-align: right;\">24147.0</td><td style = \"text-align: right;\">175.622</td><td style = \"text-align: right;\">-40.3556</td><td style = \"text-align: left;\">Arterial urban</td><td style = \"text-align: left;\">Overcast</td></tr><tr><td class = \"rowNumber\" style = \"font-weight: bold; text-align: right;\">15620</td><td style = \"text-align: right;\">2018101685</td><td style = \"text-align: right;\">2018</td><td style = \"text-align: left;\">2018/10/13</td><td style = \"text-align: left;\">18:15:00</td><td style = \"text-align: left;\">Non-Injury Crash</td><td style = \"text-align: right;\">0</td><td style = \"text-align: right;\">0</td><td style = \"text-align: right;\">0</td><td style = \"text-align: left;\">Wellington Region</td><td style = \"text-align: left;\">Car/Wagon</td><td style = \"text-align: left;\">FORD</td><td style = \"text-align: right;\">24147.0</td><td style = \"text-align: right;\">174.986</td><td style = \"text-align: right;\">-41.171</td><td style = \"text-align: left;\">Medium urban</td><td style = \"text-align: left;\">Bright sun</td></tr><tr><td class = \"rowNumber\" style = \"font-weight: bold; text-align: right;\">15621</td><td style = \"text-align: right;\">2018101686</td><td style = \"text-align: right;\">2018</td><td style = \"text-align: left;\">2018/10/16</td><td style = \"text-align: left;\">14:00:00</td><td style = \"text-align: left;\">Non-Injury Crash</td><td style = \"text-align: right;\">0</td><td style = \"text-align: right;\">0</td><td style = \"text-align: right;\">0</td><td style = \"text-align: left;\">Wellington Region</td><td style = \"text-align: left;\">Car/Wagon</td><td style = \"text-align: left;\">VOLVO</td><td style = \"text-align: right;\">24147.0</td><td style = \"text-align: right;\">174.887</td><td style = \"text-align: right;\">-41.2226</td><td style = \"text-align: left;\">Medium urban</td><td style = \"text-align: left;\">Overcast</td></tr><tr><td class = \"rowNumber\" style = \"font-weight: bold; text-align: right;\">15622</td><td style = \"text-align: right;\">2018101717</td><td style = \"text-align: right;\">2018</td><td style = \"text-align: left;\">2018/11/19</td><td style = \"text-align: left;\">08:50:00</td><td style = \"text-align: left;\">Non-Injury Crash</td><td style = \"text-align: right;\">0</td><td style = \"text-align: right;\">0</td><td style = \"text-align: right;\">0</td><td style = \"text-align: left;\">Northland Region</td><td style = \"text-align: left;\">Truck</td><td style = \"text-align: left;\">Kenworth</td><td style = \"text-align: right;\">39209.0</td><td style = \"text-align: right;\">173.889</td><td style = \"text-align: right;\">-35.8995</td><td style = \"text-align: left;\">Major rural</td><td style = \"text-align: left;\">Overcast</td></tr><tr><td class = \"rowNumber\" style = \"font-weight: bold; text-align: right;\">15623</td><td style = \"text-align: right;\">2018101720</td><td style = \"text-align: right;\">2018</td><td style = \"text-align: left;\">2018/2/9</td><td style = \"text-align: left;\">16:40:00</td><td style = \"text-align: left;\">Non-Injury Crash</td><td style = \"text-align: right;\">0</td><td style = \"text-align: right;\">0</td><td style = \"text-align: right;\">0</td><td style = \"text-align: left;\">Wellington Region</td><td style = \"text-align: left;\">Truck</td><td style = \"text-align: left;\">Mitsubishio Fuso</td><td style = \"text-align: right;\">24147.0</td><td style = \"text-align: right;\">175.649</td><td style = \"text-align: right;\">-40.9461</td><td style = \"text-align: left;\">Medium urban</td><td style = \"text-align: left;\">Bright sun</td></tr><tr><td class = \"rowNumber\" style = \"font-weight: bold; text-align: right;\">15624</td><td style = \"text-align: right;\">2018101733</td><td style = \"text-align: right;\">2018</td><td style = \"text-align: left;\">2018/10/26</td><td style = \"text-align: left;\">17:05:00</td><td style = \"text-align: left;\">Non-Injury Crash</td><td style = \"text-align: right;\">0</td><td style = \"text-align: right;\">0</td><td style = \"text-align: right;\">0</td><td style = \"text-align: left;\">Hawke&apos;s Bay Region</td><td style = \"text-align: left;\">Car/Wagon</td><td style = \"text-align: left;\">Peugeot 406</td><td style = \"text-align: right;\">24147.0</td><td style = \"text-align: right;\">176.846</td><td style = \"text-align: right;\">-39.6444</td><td style = \"text-align: left;\">Medium urban</td><td style = \"text-align: left;\">Overcast</td></tr><tr><td class = \"rowNumber\" style = \"font-weight: bold; text-align: right;\">15625</td><td style = \"text-align: right;\">2018101758</td><td style = \"text-align: right;\">2018</td><td style = \"text-align: left;\">2018/10/12</td><td style = \"text-align: left;\">19:39:00</td><td style = \"text-align: left;\">Non-Injury Crash</td><td style = \"text-align: right;\">0</td><td style = \"text-align: right;\">0</td><td style = \"text-align: right;\">0</td><td style = \"text-align: left;\">Auckland Region</td><td style = \"text-align: left;\">Car/Wagon</td><td style = \"text-align: left;\">TOYOTA</td><td style = \"text-align: right;\">39209.0</td><td style = \"text-align: right;\">174.753</td><td style = \"text-align: right;\">-36.7881</td><td style = \"text-align: left;\">Motorway</td><td style = \"text-align: left;\">Dark</td></tr><tr><td class = \"rowNumber\" style = \"font-weight: bold; text-align: right;\">15626</td><td style = \"text-align: right;\">2018101761</td><td style = \"text-align: right;\">2018</td><td style = \"text-align: left;\">2018/7/28</td><td style = \"text-align: left;\">12:38:00</td><td style = \"text-align: left;\">Non-Injury Crash</td><td style = \"text-align: right;\">0</td><td style = \"text-align: right;\">0</td><td style = \"text-align: right;\">0</td><td style = \"text-align: left;\">Manawatu-Wanganui Region</td><td style = \"text-align: left;\">Car/Wagon</td><td style = \"text-align: left;\">SUBARU</td><td style = \"text-align: right;\">39209.0</td><td style = \"text-align: right;\">175.683</td><td style = \"text-align: right;\">-39.4368</td><td style = \"text-align: left;\">Major rural</td><td style = \"text-align: left;\">Bright sun</td></tr></tbody></table></div>"
      ],
      "text/latex": [
       "\\begin{tabular}{r|ccccccc}\n",
       "\t& Crash.identifier & Crash.year & Crash.date & Crash.time & Crash.severity & Fatal.injury.count & \\\\\n",
       "\t\\hline\n",
       "\t& Int64 & Int64 & String & Time & String & Int64 & \\\\\n",
       "\t\\hline\n",
       "\t1 & 201800005 & 2018 & 2018/1/4 & 16:54:00 & Fatal Crash & 2 & $\\dots$ \\\\\n",
       "\t2 & 201800011 & 2018 & 2018/1/13 & 23:40:00 & Fatal Crash & 1 & $\\dots$ \\\\\n",
       "\t3 & 201800014 & 2018 & 2018/1/15 & 17:20:00 & Fatal Crash & 1 & $\\dots$ \\\\\n",
       "\t4 & 201800012 & 2018 & 2018/1/14 & 08:30:00 & Fatal Crash & 1 & $\\dots$ \\\\\n",
       "\t5 & 201800016 & 2018 & 2018/1/15 & 16:10:00 & Fatal Crash & 1 & $\\dots$ \\\\\n",
       "\t6 & 201800018 & 2018 & 2018/1/17 & 14:24:00 & Fatal Crash & 1 & $\\dots$ \\\\\n",
       "\t7 & 201800002 & 2018 & 2018/1/1 & 17:21:00 & Fatal Crash & 1 & $\\dots$ \\\\\n",
       "\t8 & 201800003 & 2018 & 2018/1/2 & 22:40:00 & Fatal Crash & 1 & $\\dots$ \\\\\n",
       "\t9 & 201800008 & 2018 & 2018/1/7 & 09:35:00 & Fatal Crash & 1 & $\\dots$ \\\\\n",
       "\t10 & 201800034 & 2018 & 2018/1/18 & 14:14:00 & Fatal Crash & 1 & $\\dots$ \\\\\n",
       "\t11 & 201800041 & 2018 & 2018/2/8 & 15:50:00 & Fatal Crash & 1 & $\\dots$ \\\\\n",
       "\t12 & 201800045 & 2018 & 2018/2/10 & 09:48:00 & Fatal Crash & 2 & $\\dots$ \\\\\n",
       "\t13 & 201800009 & 2018 & 2018/1/7 & 14:45:00 & Fatal Crash & 1 & $\\dots$ \\\\\n",
       "\t14 & 201800013 & 2018 & 2018/1/14 & 16:44:00 & Fatal Crash & 1 & $\\dots$ \\\\\n",
       "\t15 & 201800004 & 2018 & 2018/1/3 & 17:00:00 & Fatal Crash & 1 & $\\dots$ \\\\\n",
       "\t16 & 201800033 & 2018 & 2018/1/29 & 16:30:00 & Fatal Crash & 1 & $\\dots$ \\\\\n",
       "\t17 & 201800049 & 2018 & 2018/1/19 & 17:17:00 & Fatal Crash & 1 & $\\dots$ \\\\\n",
       "\t18 & 201800023 & 2018 & 2018/1/22 & 18:50:00 & Fatal Crash & 1 & $\\dots$ \\\\\n",
       "\t19 & 201800027 & 2018 & 2018/1/26 & 08:57:00 & Fatal Crash & 1 & $\\dots$ \\\\\n",
       "\t20 & 201800048 & 2018 & 2018/2/13 & 09:30:00 & Fatal Crash & 1 & $\\dots$ \\\\\n",
       "\t21 & 201800017 & 2018 & 2018/1/17 & 09:00:00 & Fatal Crash & 1 & $\\dots$ \\\\\n",
       "\t22 & 201800039 & 2018 & 2018/2/4 & 15:30:00 & Fatal Crash & 1 & $\\dots$ \\\\\n",
       "\t23 & 201800052 & 2018 & 2018/2/15 & 14:18:00 & Fatal Crash & 1 & $\\dots$ \\\\\n",
       "\t24 & 201800006 & 2018 & 2018/1/6 & 10:45:00 & Fatal Crash & 1 & $\\dots$ \\\\\n",
       "\t25 & 201800007 & 2018 & 2018/1/5 & 17:35:00 & Fatal Crash & 1 & $\\dots$ \\\\\n",
       "\t26 & 201800019 & 2018 & 2018/1/18 & 17:30:00 & Fatal Crash & 1 & $\\dots$ \\\\\n",
       "\t27 & 201800021 & 2018 & 2018/1/19 & 12:40:00 & Fatal Crash & 1 & $\\dots$ \\\\\n",
       "\t28 & 201800015 & 2018 & 2018/1/16 & 05:55:00 & Fatal Crash & 1 & $\\dots$ \\\\\n",
       "\t29 & 201800024 & 2018 & 2018/1/24 & 22:05:00 & Fatal Crash & 1 & $\\dots$ \\\\\n",
       "\t30 & 201800025 & 2018 & 2018/1/25 & 08:33:00 & Fatal Crash & 1 & $\\dots$ \\\\\n",
       "\t$\\dots$ & $\\dots$ & $\\dots$ & $\\dots$ & $\\dots$ & $\\dots$ & $\\dots$ &  \\\\\n",
       "\\end{tabular}\n"
      ],
      "text/plain": [
       "\u001b[1m15626×16 DataFrame\u001b[0m\n",
       "\u001b[1m   Row \u001b[0m│\u001b[1m Crash.identifier \u001b[0m\u001b[1m Crash.year \u001b[0m\u001b[1m Crash.date \u001b[0m\u001b[1m Crash.time \u001b[0m\u001b[1m Crash.severity \u001b[0m ⋯\n",
       "       │\u001b[90m Int64            \u001b[0m\u001b[90m Int64      \u001b[0m\u001b[90m String     \u001b[0m\u001b[90m Time       \u001b[0m\u001b[90m String         \u001b[0m ⋯\n",
       "───────┼────────────────────────────────────────────────────────────────────────\n",
       "     1 │        201800005        2018  2018/1/4    16:54:00    Fatal Crash     ⋯\n",
       "     2 │        201800011        2018  2018/1/13   23:40:00    Fatal Crash\n",
       "     3 │        201800014        2018  2018/1/15   17:20:00    Fatal Crash\n",
       "     4 │        201800012        2018  2018/1/14   08:30:00    Fatal Crash\n",
       "     5 │        201800016        2018  2018/1/15   16:10:00    Fatal Crash     ⋯\n",
       "     6 │        201800018        2018  2018/1/17   14:24:00    Fatal Crash\n",
       "     7 │        201800002        2018  2018/1/1    17:21:00    Fatal Crash\n",
       "     8 │        201800003        2018  2018/1/2    22:40:00    Fatal Crash\n",
       "     9 │        201800008        2018  2018/1/7    09:35:00    Fatal Crash     ⋯\n",
       "    10 │        201800034        2018  2018/1/18   14:14:00    Fatal Crash\n",
       "    11 │        201800041        2018  2018/2/8    15:50:00    Fatal Crash\n",
       "   ⋮   │        ⋮              ⋮           ⋮           ⋮              ⋮        ⋱\n",
       " 15617 │       2018101628        2018  2018/12/15  23:04:00    Non-Injury Cras\n",
       " 15618 │       2018101681        2018  2018/11/1   12:30:00    Non-Injury Cras ⋯\n",
       " 15619 │       2018101684        2018  2018/11/1   14:10:00    Non-Injury Cras\n",
       " 15620 │       2018101685        2018  2018/10/13  18:15:00    Non-Injury Cras\n",
       " 15621 │       2018101686        2018  2018/10/16  14:00:00    Non-Injury Cras\n",
       " 15622 │       2018101717        2018  2018/11/19  08:50:00    Non-Injury Cras ⋯\n",
       " 15623 │       2018101720        2018  2018/2/9    16:40:00    Non-Injury Cras\n",
       " 15624 │       2018101733        2018  2018/10/26  17:05:00    Non-Injury Cras\n",
       " 15625 │       2018101758        2018  2018/10/12  19:39:00    Non-Injury Cras\n",
       " 15626 │       2018101761        2018  2018/7/28   12:38:00    Non-Injury Cras ⋯\n",
       "\u001b[36m                                               12 columns and 15605 rows omitted\u001b[0m"
      ]
     },
     "execution_count": 8,
     "metadata": {},
     "output_type": "execute_result"
    }
   ],
   "source": [
    "# Definte CSV path\n",
    "csv_path_CAS = \"E:/UC-MADS/DATA 422 DATA Wrangling/Group Project/cas_sub.csv\"\n",
    "\n",
    "\n",
    "# attach CSV and transfer to DataFrame\n",
    "CAS = CSV.File(csv_path_CAS) |> DataFrame"
   ]
  },
  {
   "cell_type": "code",
   "execution_count": 9,
   "metadata": {},
   "outputs": [
    {
     "data": {
      "text/html": [
       "<div><div style = \"float: left;\"><span>5×16 DataFrame</span></div><div style = \"clear: both;\"></div></div><div class = \"data-frame\" style = \"overflow-x: scroll;\"><table class = \"data-frame\" style = \"margin-bottom: 6px;\"><thead><tr class = \"header\"><th class = \"rowNumber\" style = \"font-weight: bold; text-align: right;\">Row</th><th style = \"text-align: left;\">Crash.identifier</th><th style = \"text-align: left;\">Crash.year</th><th style = \"text-align: left;\">Crash.date</th><th style = \"text-align: left;\">Crash.time</th><th style = \"text-align: left;\">Crash.severity</th><th style = \"text-align: left;\">Fatal.injury.count</th><th style = \"text-align: left;\">Serious.injury.count</th><th style = \"text-align: left;\">Minor.injury.count</th><th style = \"text-align: left;\">Regional.council</th><th style = \"text-align: left;\">Vehicle.type</th><th style = \"text-align: left;\">Make.</th><th style = \"text-align: left;\">Social.Cost</th><th style = \"text-align: left;\">Longitude</th><th style = \"text-align: left;\">Latitude</th><th style = \"text-align: left;\">Road.category</th><th style = \"text-align: left;\">Natural.Light</th></tr><tr class = \"subheader headerLastRow\"><th class = \"rowNumber\" style = \"font-weight: bold; text-align: right;\"></th><th title = \"Int64\" style = \"text-align: left;\">Int64</th><th title = \"Int64\" style = \"text-align: left;\">Int64</th><th title = \"String\" style = \"text-align: left;\">String</th><th title = \"Time\" style = \"text-align: left;\">Time</th><th title = \"String\" style = \"text-align: left;\">String</th><th title = \"Int64\" style = \"text-align: left;\">Int64</th><th title = \"Int64\" style = \"text-align: left;\">Int64</th><th title = \"Int64\" style = \"text-align: left;\">Int64</th><th title = \"String\" style = \"text-align: left;\">String</th><th title = \"String\" style = \"text-align: left;\">String</th><th title = \"String\" style = \"text-align: left;\">String</th><th title = \"Float64\" style = \"text-align: left;\">Float64</th><th title = \"Float64\" style = \"text-align: left;\">Float64</th><th title = \"Float64\" style = \"text-align: left;\">Float64</th><th title = \"String\" style = \"text-align: left;\">String</th><th title = \"String\" style = \"text-align: left;\">String</th></tr></thead><tbody><tr><td class = \"rowNumber\" style = \"font-weight: bold; text-align: right;\">1</td><td style = \"text-align: right;\">201800005</td><td style = \"text-align: right;\">2018</td><td style = \"text-align: left;\">2018/1/4</td><td style = \"text-align: left;\">16:54:00</td><td style = \"text-align: left;\">Fatal Crash</td><td style = \"text-align: right;\">2</td><td style = \"text-align: right;\">3</td><td style = \"text-align: right;\">0</td><td style = \"text-align: left;\">Auckland Region</td><td style = \"text-align: left;\">Car/Wagon</td><td style = \"text-align: left;\">NISSAN</td><td style = \"text-align: right;\">4.963e6</td><td style = \"text-align: right;\">174.437</td><td style = \"text-align: right;\">-36.7459</td><td style = \"text-align: left;\">Major rural</td><td style = \"text-align: left;\">Overcast</td></tr><tr><td class = \"rowNumber\" style = \"font-weight: bold; text-align: right;\">2</td><td style = \"text-align: right;\">201800011</td><td style = \"text-align: right;\">2018</td><td style = \"text-align: left;\">2018/1/13</td><td style = \"text-align: left;\">23:40:00</td><td style = \"text-align: left;\">Fatal Crash</td><td style = \"text-align: right;\">1</td><td style = \"text-align: right;\">2</td><td style = \"text-align: right;\">1</td><td style = \"text-align: left;\">Bay of Plenty Region</td><td style = \"text-align: left;\">Van</td><td style = \"text-align: left;\">NISSAN</td><td style = \"text-align: right;\">5.232e6</td><td style = \"text-align: right;\">175.971</td><td style = \"text-align: right;\">-37.6502</td><td style = \"text-align: left;\">Major rural</td><td style = \"text-align: left;\">Dark</td></tr><tr><td class = \"rowNumber\" style = \"font-weight: bold; text-align: right;\">3</td><td style = \"text-align: right;\">201800014</td><td style = \"text-align: right;\">2018</td><td style = \"text-align: left;\">2018/1/15</td><td style = \"text-align: left;\">17:20:00</td><td style = \"text-align: left;\">Fatal Crash</td><td style = \"text-align: right;\">1</td><td style = \"text-align: right;\">0</td><td style = \"text-align: right;\">0</td><td style = \"text-align: left;\">Canterbury Region</td><td style = \"text-align: left;\">Motorcycle</td><td style = \"text-align: left;\">DUCATI</td><td style = \"text-align: right;\">5.223e6</td><td style = \"text-align: right;\">172.775</td><td style = \"text-align: right;\">-43.6725</td><td style = \"text-align: left;\">Medium rural</td><td style = \"text-align: left;\">Bright sun</td></tr><tr><td class = \"rowNumber\" style = \"font-weight: bold; text-align: right;\">4</td><td style = \"text-align: right;\">201800012</td><td style = \"text-align: right;\">2018</td><td style = \"text-align: left;\">2018/1/14</td><td style = \"text-align: left;\">08:30:00</td><td style = \"text-align: left;\">Fatal Crash</td><td style = \"text-align: right;\">1</td><td style = \"text-align: right;\">0</td><td style = \"text-align: right;\">0</td><td style = \"text-align: left;\">Waikato Region</td><td style = \"text-align: left;\">Motorcycle</td><td style = \"text-align: left;\">YAMAHA</td><td style = \"text-align: right;\">4.837e6</td><td style = \"text-align: right;\">174.988</td><td style = \"text-align: right;\">-37.3338</td><td style = \"text-align: left;\">Medium rural</td><td style = \"text-align: left;\">Bright sun</td></tr><tr><td class = \"rowNumber\" style = \"font-weight: bold; text-align: right;\">5</td><td style = \"text-align: right;\">201800016</td><td style = \"text-align: right;\">2018</td><td style = \"text-align: left;\">2018/1/15</td><td style = \"text-align: left;\">16:10:00</td><td style = \"text-align: left;\">Fatal Crash</td><td style = \"text-align: right;\">1</td><td style = \"text-align: right;\">0</td><td style = \"text-align: right;\">3</td><td style = \"text-align: left;\">Manawatu-Wanganui Region</td><td style = \"text-align: left;\">Car/Wagon</td><td style = \"text-align: left;\">BMW</td><td style = \"text-align: right;\">5.264e6</td><td style = \"text-align: right;\">175.589</td><td style = \"text-align: right;\">-40.3092</td><td style = \"text-align: left;\">Major rural</td><td style = \"text-align: left;\">Bright sun</td></tr></tbody></table></div>"
      ],
      "text/latex": [
       "\\begin{tabular}{r|ccccccc}\n",
       "\t& Crash.identifier & Crash.year & Crash.date & Crash.time & Crash.severity & Fatal.injury.count & \\\\\n",
       "\t\\hline\n",
       "\t& Int64 & Int64 & String & Time & String & Int64 & \\\\\n",
       "\t\\hline\n",
       "\t1 & 201800005 & 2018 & 2018/1/4 & 16:54:00 & Fatal Crash & 2 & $\\dots$ \\\\\n",
       "\t2 & 201800011 & 2018 & 2018/1/13 & 23:40:00 & Fatal Crash & 1 & $\\dots$ \\\\\n",
       "\t3 & 201800014 & 2018 & 2018/1/15 & 17:20:00 & Fatal Crash & 1 & $\\dots$ \\\\\n",
       "\t4 & 201800012 & 2018 & 2018/1/14 & 08:30:00 & Fatal Crash & 1 & $\\dots$ \\\\\n",
       "\t5 & 201800016 & 2018 & 2018/1/15 & 16:10:00 & Fatal Crash & 1 & $\\dots$ \\\\\n",
       "\\end{tabular}\n"
      ],
      "text/plain": [
       "\u001b[1m5×16 DataFrame\u001b[0m\n",
       "\u001b[1m Row \u001b[0m│\u001b[1m Crash.identifier \u001b[0m\u001b[1m Crash.year \u001b[0m\u001b[1m Crash.date \u001b[0m\u001b[1m Crash.time \u001b[0m\u001b[1m Crash.severity \u001b[0m\u001b[1m F\u001b[0m ⋯\n",
       "     │\u001b[90m Int64            \u001b[0m\u001b[90m Int64      \u001b[0m\u001b[90m String     \u001b[0m\u001b[90m Time       \u001b[0m\u001b[90m String         \u001b[0m\u001b[90m I\u001b[0m ⋯\n",
       "─────┼──────────────────────────────────────────────────────────────────────────\n",
       "   1 │        201800005        2018  2018/1/4    16:54:00    Fatal Crash       ⋯\n",
       "   2 │        201800011        2018  2018/1/13   23:40:00    Fatal Crash\n",
       "   3 │        201800014        2018  2018/1/15   17:20:00    Fatal Crash\n",
       "   4 │        201800012        2018  2018/1/14   08:30:00    Fatal Crash\n",
       "   5 │        201800016        2018  2018/1/15   16:10:00    Fatal Crash       ⋯\n",
       "\u001b[36m                                                              11 columns omitted\u001b[0m"
      ]
     },
     "execution_count": 9,
     "metadata": {},
     "output_type": "execute_result"
    }
   ],
   "source": [
    "first(CAS, 5)  "
   ]
  },
  {
   "cell_type": "code",
   "execution_count": 10,
   "metadata": {
    "scrolled": true
   },
   "outputs": [
    {
     "data": {
      "text/plain": [
       "16-element Vector{String}:\n",
       " \"Crash.identifier\"\n",
       " \"Crash.year\"\n",
       " \"Crash.date\"\n",
       " \"Crash.time\"\n",
       " \"Crash.severity\"\n",
       " \"Fatal.injury.count\"\n",
       " \"Serious.injury.count\"\n",
       " \"Minor.injury.count\"\n",
       " \"Regional.council\"\n",
       " \"Vehicle.type\"\n",
       " \"Make.\"\n",
       " \"Social.Cost\"\n",
       " \"Longitude\"\n",
       " \"Latitude\"\n",
       " \"Road.category\"\n",
       " \"Natural.Light\""
      ]
     },
     "execution_count": 10,
     "metadata": {},
     "output_type": "execute_result"
    }
   ],
   "source": [
    "names(CAS)"
   ]
  },
  {
   "cell_type": "code",
   "execution_count": 11,
   "metadata": {},
   "outputs": [
    {
     "data": {
      "text/html": [
       "<div><div style = \"float: left;\"><span>5×4 DataFrame</span></div><div style = \"clear: both;\"></div></div><div class = \"data-frame\" style = \"overflow-x: scroll;\"><table class = \"data-frame\" style = \"margin-bottom: 6px;\"><thead><tr class = \"header\"><th class = \"rowNumber\" style = \"font-weight: bold; text-align: right;\">Row</th><th style = \"text-align: left;\">Crash.identifier</th><th style = \"text-align: left;\">Longitude</th><th style = \"text-align: left;\">Latitude</th><th style = \"text-align: left;\">Crash.severity</th></tr><tr class = \"subheader headerLastRow\"><th class = \"rowNumber\" style = \"font-weight: bold; text-align: right;\"></th><th title = \"Int64\" style = \"text-align: left;\">Int64</th><th title = \"Float64\" style = \"text-align: left;\">Float64</th><th title = \"Float64\" style = \"text-align: left;\">Float64</th><th title = \"String\" style = \"text-align: left;\">String</th></tr></thead><tbody><tr><td class = \"rowNumber\" style = \"font-weight: bold; text-align: right;\">1</td><td style = \"text-align: right;\">201800005</td><td style = \"text-align: right;\">174.437</td><td style = \"text-align: right;\">-36.7459</td><td style = \"text-align: left;\">Fatal Crash</td></tr><tr><td class = \"rowNumber\" style = \"font-weight: bold; text-align: right;\">2</td><td style = \"text-align: right;\">201800011</td><td style = \"text-align: right;\">175.971</td><td style = \"text-align: right;\">-37.6502</td><td style = \"text-align: left;\">Fatal Crash</td></tr><tr><td class = \"rowNumber\" style = \"font-weight: bold; text-align: right;\">3</td><td style = \"text-align: right;\">201800014</td><td style = \"text-align: right;\">172.775</td><td style = \"text-align: right;\">-43.6725</td><td style = \"text-align: left;\">Fatal Crash</td></tr><tr><td class = \"rowNumber\" style = \"font-weight: bold; text-align: right;\">4</td><td style = \"text-align: right;\">201800012</td><td style = \"text-align: right;\">174.988</td><td style = \"text-align: right;\">-37.3338</td><td style = \"text-align: left;\">Fatal Crash</td></tr><tr><td class = \"rowNumber\" style = \"font-weight: bold; text-align: right;\">5</td><td style = \"text-align: right;\">201800016</td><td style = \"text-align: right;\">175.589</td><td style = \"text-align: right;\">-40.3092</td><td style = \"text-align: left;\">Fatal Crash</td></tr></tbody></table></div>"
      ],
      "text/latex": [
       "\\begin{tabular}{r|cccc}\n",
       "\t& Crash.identifier & Longitude & Latitude & Crash.severity\\\\\n",
       "\t\\hline\n",
       "\t& Int64 & Float64 & Float64 & String\\\\\n",
       "\t\\hline\n",
       "\t1 & 201800005 & 174.437 & -36.7459 & Fatal Crash \\\\\n",
       "\t2 & 201800011 & 175.971 & -37.6502 & Fatal Crash \\\\\n",
       "\t3 & 201800014 & 172.775 & -43.6725 & Fatal Crash \\\\\n",
       "\t4 & 201800012 & 174.988 & -37.3338 & Fatal Crash \\\\\n",
       "\t5 & 201800016 & 175.589 & -40.3092 & Fatal Crash \\\\\n",
       "\\end{tabular}\n"
      ],
      "text/plain": [
       "\u001b[1m5×4 DataFrame\u001b[0m\n",
       "\u001b[1m Row \u001b[0m│\u001b[1m Crash.identifier \u001b[0m\u001b[1m Longitude \u001b[0m\u001b[1m Latitude \u001b[0m\u001b[1m Crash.severity \u001b[0m\n",
       "     │\u001b[90m Int64            \u001b[0m\u001b[90m Float64   \u001b[0m\u001b[90m Float64  \u001b[0m\u001b[90m String         \u001b[0m\n",
       "─────┼───────────────────────────────────────────────────────\n",
       "   1 │        201800005    174.437  -36.7459  Fatal Crash\n",
       "   2 │        201800011    175.971  -37.6502  Fatal Crash\n",
       "   3 │        201800014    172.775  -43.6725  Fatal Crash\n",
       "   4 │        201800012    174.988  -37.3338  Fatal Crash\n",
       "   5 │        201800016    175.589  -40.3092  Fatal Crash"
      ]
     },
     "execution_count": 11,
     "metadata": {},
     "output_type": "execute_result"
    }
   ],
   "source": [
    "Location = select(CAS, [\"Crash.identifier\", \"Longitude\", \"Latitude\", \"Crash.severity\"])\n",
    "\n",
    "first(Location, 5) "
   ]
  },
  {
   "cell_type": "code",
   "execution_count": 14,
   "metadata": {
    "collapsed": true,
    "jupyter": {
     "outputs_hidden": true
    }
   },
   "outputs": [
    {
     "data": {
      "text/html": [
       "<div><div style = \"float: left;\"><span>324×4 DataFrame</span></div><div style = \"float: right;\"><span style = \"font-style: italic;\">299 rows omitted</span></div><div style = \"clear: both;\"></div></div><div class = \"data-frame\" style = \"overflow-x: scroll;\"><table class = \"data-frame\" style = \"margin-bottom: 6px;\"><thead><tr class = \"header\"><th class = \"rowNumber\" style = \"font-weight: bold; text-align: right;\">Row</th><th style = \"text-align: left;\">Crash.identifier</th><th style = \"text-align: left;\">Longitude</th><th style = \"text-align: left;\">Latitude</th><th style = \"text-align: left;\">Crash.severity</th></tr><tr class = \"subheader headerLastRow\"><th class = \"rowNumber\" style = \"font-weight: bold; text-align: right;\"></th><th title = \"Int64\" style = \"text-align: left;\">Int64</th><th title = \"Float64\" style = \"text-align: left;\">Float64</th><th title = \"Float64\" style = \"text-align: left;\">Float64</th><th title = \"String\" style = \"text-align: left;\">String</th></tr></thead><tbody><tr><td class = \"rowNumber\" style = \"font-weight: bold; text-align: right;\">1</td><td style = \"text-align: right;\">201800005</td><td style = \"text-align: right;\">174.437</td><td style = \"text-align: right;\">-36.7459</td><td style = \"text-align: left;\">Fatal Crash</td></tr><tr><td class = \"rowNumber\" style = \"font-weight: bold; text-align: right;\">2</td><td style = \"text-align: right;\">201800011</td><td style = \"text-align: right;\">175.971</td><td style = \"text-align: right;\">-37.6502</td><td style = \"text-align: left;\">Fatal Crash</td></tr><tr><td class = \"rowNumber\" style = \"font-weight: bold; text-align: right;\">3</td><td style = \"text-align: right;\">201800014</td><td style = \"text-align: right;\">172.775</td><td style = \"text-align: right;\">-43.6725</td><td style = \"text-align: left;\">Fatal Crash</td></tr><tr><td class = \"rowNumber\" style = \"font-weight: bold; text-align: right;\">4</td><td style = \"text-align: right;\">201800012</td><td style = \"text-align: right;\">174.988</td><td style = \"text-align: right;\">-37.3338</td><td style = \"text-align: left;\">Fatal Crash</td></tr><tr><td class = \"rowNumber\" style = \"font-weight: bold; text-align: right;\">5</td><td style = \"text-align: right;\">201800016</td><td style = \"text-align: right;\">175.589</td><td style = \"text-align: right;\">-40.3092</td><td style = \"text-align: left;\">Fatal Crash</td></tr><tr><td class = \"rowNumber\" style = \"font-weight: bold; text-align: right;\">6</td><td style = \"text-align: right;\">201800018</td><td style = \"text-align: right;\">171.202</td><td style = \"text-align: right;\">-44.4802</td><td style = \"text-align: left;\">Fatal Crash</td></tr><tr><td class = \"rowNumber\" style = \"font-weight: bold; text-align: right;\">7</td><td style = \"text-align: right;\">201800002</td><td style = \"text-align: right;\">175.699</td><td style = \"text-align: right;\">-40.9505</td><td style = \"text-align: left;\">Fatal Crash</td></tr><tr><td class = \"rowNumber\" style = \"font-weight: bold; text-align: right;\">8</td><td style = \"text-align: right;\">201800003</td><td style = \"text-align: right;\">172.536</td><td style = \"text-align: right;\">-43.5173</td><td style = \"text-align: left;\">Fatal Crash</td></tr><tr><td class = \"rowNumber\" style = \"font-weight: bold; text-align: right;\">9</td><td style = \"text-align: right;\">201800008</td><td style = \"text-align: right;\">172.924</td><td style = \"text-align: right;\">-43.7522</td><td style = \"text-align: left;\">Fatal Crash</td></tr><tr><td class = \"rowNumber\" style = \"font-weight: bold; text-align: right;\">10</td><td style = \"text-align: right;\">201800034</td><td style = \"text-align: right;\">174.41</td><td style = \"text-align: right;\">-35.6451</td><td style = \"text-align: left;\">Fatal Crash</td></tr><tr><td class = \"rowNumber\" style = \"font-weight: bold; text-align: right;\">11</td><td style = \"text-align: right;\">201800041</td><td style = \"text-align: right;\">171.44</td><td style = \"text-align: right;\">-42.7347</td><td style = \"text-align: left;\">Fatal Crash</td></tr><tr><td class = \"rowNumber\" style = \"font-weight: bold; text-align: right;\">12</td><td style = \"text-align: right;\">201800045</td><td style = \"text-align: right;\">175.19</td><td style = \"text-align: right;\">-38.2298</td><td style = \"text-align: left;\">Fatal Crash</td></tr><tr><td class = \"rowNumber\" style = \"font-weight: bold; text-align: right;\">13</td><td style = \"text-align: right;\">201800009</td><td style = \"text-align: right;\">175.764</td><td style = \"text-align: right;\">-37.7896</td><td style = \"text-align: left;\">Fatal Crash</td></tr><tr><td style = \"text-align: right;\">&vellip;</td><td style = \"text-align: right;\">&vellip;</td><td style = \"text-align: right;\">&vellip;</td><td style = \"text-align: right;\">&vellip;</td><td style = \"text-align: right;\">&vellip;</td></tr><tr><td class = \"rowNumber\" style = \"font-weight: bold; text-align: right;\">313</td><td style = \"text-align: right;\">201830009</td><td style = \"text-align: right;\">175.943</td><td style = \"text-align: right;\">-37.8645</td><td style = \"text-align: left;\">Fatal Crash</td></tr><tr><td class = \"rowNumber\" style = \"font-weight: bold; text-align: right;\">314</td><td style = \"text-align: right;\">201895007</td><td style = \"text-align: right;\">174.945</td><td style = \"text-align: right;\">-37.1133</td><td style = \"text-align: left;\">Fatal Crash</td></tr><tr><td class = \"rowNumber\" style = \"font-weight: bold; text-align: right;\">315</td><td style = \"text-align: right;\">201897073</td><td style = \"text-align: right;\">175.058</td><td style = \"text-align: right;\">-39.9363</td><td style = \"text-align: left;\">Fatal Crash</td></tr><tr><td class = \"rowNumber\" style = \"font-weight: bold; text-align: right;\">316</td><td style = \"text-align: right;\">201844516</td><td style = \"text-align: right;\">176.337</td><td style = \"text-align: right;\">-37.7899</td><td style = \"text-align: left;\">Fatal Crash</td></tr><tr><td class = \"rowNumber\" style = \"font-weight: bold; text-align: right;\">317</td><td style = \"text-align: right;\">201895092</td><td style = \"text-align: right;\">176.06</td><td style = \"text-align: right;\">-38.4485</td><td style = \"text-align: left;\">Fatal Crash</td></tr><tr><td class = \"rowNumber\" style = \"font-weight: bold; text-align: right;\">318</td><td style = \"text-align: right;\">201895281</td><td style = \"text-align: right;\">175.426</td><td style = \"text-align: right;\">-41.2373</td><td style = \"text-align: left;\">Fatal Crash</td></tr><tr><td class = \"rowNumber\" style = \"font-weight: bold; text-align: right;\">319</td><td style = \"text-align: right;\">201897248</td><td style = \"text-align: right;\">176.027</td><td style = \"text-align: right;\">-38.7013</td><td style = \"text-align: left;\">Fatal Crash</td></tr><tr><td class = \"rowNumber\" style = \"font-weight: bold; text-align: right;\">320</td><td style = \"text-align: right;\">2018101334</td><td style = \"text-align: right;\">172.646</td><td style = \"text-align: right;\">-43.607</td><td style = \"text-align: left;\">Fatal Crash</td></tr><tr><td class = \"rowNumber\" style = \"font-weight: bold; text-align: right;\">321</td><td style = \"text-align: right;\">201817981</td><td style = \"text-align: right;\">174.875</td><td style = \"text-align: right;\">-37.0248</td><td style = \"text-align: left;\">Fatal Crash</td></tr><tr><td class = \"rowNumber\" style = \"font-weight: bold; text-align: right;\">322</td><td style = \"text-align: right;\">201819262</td><td style = \"text-align: right;\">173.953</td><td style = \"text-align: right;\">-41.5083</td><td style = \"text-align: left;\">Fatal Crash</td></tr><tr><td class = \"rowNumber\" style = \"font-weight: bold; text-align: right;\">323</td><td style = \"text-align: right;\">201895715</td><td style = \"text-align: right;\">175.455</td><td style = \"text-align: right;\">-36.6145</td><td style = \"text-align: left;\">Fatal Crash</td></tr><tr><td class = \"rowNumber\" style = \"font-weight: bold; text-align: right;\">324</td><td style = \"text-align: right;\">2018100701</td><td style = \"text-align: right;\">171.701</td><td style = \"text-align: right;\">-42.2478</td><td style = \"text-align: left;\">Fatal Crash</td></tr></tbody></table></div>"
      ],
      "text/latex": [
       "\\begin{tabular}{r|cccc}\n",
       "\t& Crash.identifier & Longitude & Latitude & Crash.severity\\\\\n",
       "\t\\hline\n",
       "\t& Int64 & Float64 & Float64 & String\\\\\n",
       "\t\\hline\n",
       "\t1 & 201800005 & 174.437 & -36.7459 & Fatal Crash \\\\\n",
       "\t2 & 201800011 & 175.971 & -37.6502 & Fatal Crash \\\\\n",
       "\t3 & 201800014 & 172.775 & -43.6725 & Fatal Crash \\\\\n",
       "\t4 & 201800012 & 174.988 & -37.3338 & Fatal Crash \\\\\n",
       "\t5 & 201800016 & 175.589 & -40.3092 & Fatal Crash \\\\\n",
       "\t6 & 201800018 & 171.202 & -44.4802 & Fatal Crash \\\\\n",
       "\t7 & 201800002 & 175.699 & -40.9505 & Fatal Crash \\\\\n",
       "\t8 & 201800003 & 172.536 & -43.5173 & Fatal Crash \\\\\n",
       "\t9 & 201800008 & 172.924 & -43.7522 & Fatal Crash \\\\\n",
       "\t10 & 201800034 & 174.41 & -35.6451 & Fatal Crash \\\\\n",
       "\t11 & 201800041 & 171.44 & -42.7347 & Fatal Crash \\\\\n",
       "\t12 & 201800045 & 175.19 & -38.2298 & Fatal Crash \\\\\n",
       "\t13 & 201800009 & 175.764 & -37.7896 & Fatal Crash \\\\\n",
       "\t14 & 201800013 & 175.344 & -40.3319 & Fatal Crash \\\\\n",
       "\t15 & 201800004 & 172.642 & -43.5998 & Fatal Crash \\\\\n",
       "\t16 & 201800033 & 174.284 & -35.5364 & Fatal Crash \\\\\n",
       "\t17 & 201800049 & 174.699 & -36.6322 & Fatal Crash \\\\\n",
       "\t18 & 201800023 & 176.52 & -38.3095 & Fatal Crash \\\\\n",
       "\t19 & 201800027 & 172.569 & -43.4694 & Fatal Crash \\\\\n",
       "\t20 & 201800048 & 174.911 & -37.1747 & Fatal Crash \\\\\n",
       "\t21 & 201800017 & 173.927 & -35.7034 & Fatal Crash \\\\\n",
       "\t22 & 201800039 & 176.715 & -39.8934 & Fatal Crash \\\\\n",
       "\t23 & 201800052 & 175.107 & -38.0514 & Fatal Crash \\\\\n",
       "\t24 & 201800006 & 176.249 & -38.1349 & Fatal Crash \\\\\n",
       "\t25 & 201800007 & 174.934 & -36.9251 & Fatal Crash \\\\\n",
       "\t26 & 201800019 & 175.24 & -40.6855 & Fatal Crash \\\\\n",
       "\t27 & 201800021 & 169.383 & -45.2485 & Fatal Crash \\\\\n",
       "\t28 & 201800015 & 169.518 & -45.8377 & Fatal Crash \\\\\n",
       "\t29 & 201800024 & 175.803 & -36.9471 & Fatal Crash \\\\\n",
       "\t30 & 201800025 & 176.784 & -39.649 & Fatal Crash \\\\\n",
       "\t$\\dots$ & $\\dots$ & $\\dots$ & $\\dots$ & $\\dots$ \\\\\n",
       "\\end{tabular}\n"
      ],
      "text/plain": [
       "\u001b[1m324×4 DataFrame\u001b[0m\n",
       "\u001b[1m Row \u001b[0m│\u001b[1m Crash.identifier \u001b[0m\u001b[1m Longitude \u001b[0m\u001b[1m Latitude \u001b[0m\u001b[1m Crash.severity \u001b[0m\n",
       "     │\u001b[90m Int64            \u001b[0m\u001b[90m Float64   \u001b[0m\u001b[90m Float64  \u001b[0m\u001b[90m String         \u001b[0m\n",
       "─────┼───────────────────────────────────────────────────────\n",
       "   1 │        201800005    174.437  -36.7459  Fatal Crash\n",
       "   2 │        201800011    175.971  -37.6502  Fatal Crash\n",
       "   3 │        201800014    172.775  -43.6725  Fatal Crash\n",
       "   4 │        201800012    174.988  -37.3338  Fatal Crash\n",
       "   5 │        201800016    175.589  -40.3092  Fatal Crash\n",
       "   6 │        201800018    171.202  -44.4802  Fatal Crash\n",
       "   7 │        201800002    175.699  -40.9505  Fatal Crash\n",
       "   8 │        201800003    172.536  -43.5173  Fatal Crash\n",
       "   9 │        201800008    172.924  -43.7522  Fatal Crash\n",
       "  10 │        201800034    174.41   -35.6451  Fatal Crash\n",
       "  11 │        201800041    171.44   -42.7347  Fatal Crash\n",
       "  ⋮  │        ⋮              ⋮         ⋮            ⋮\n",
       " 315 │        201897073    175.058  -39.9363  Fatal Crash\n",
       " 316 │        201844516    176.337  -37.7899  Fatal Crash\n",
       " 317 │        201895092    176.06   -38.4485  Fatal Crash\n",
       " 318 │        201895281    175.426  -41.2373  Fatal Crash\n",
       " 319 │        201897248    176.027  -38.7013  Fatal Crash\n",
       " 320 │       2018101334    172.646  -43.607   Fatal Crash\n",
       " 321 │        201817981    174.875  -37.0248  Fatal Crash\n",
       " 322 │        201819262    173.953  -41.5083  Fatal Crash\n",
       " 323 │        201895715    175.455  -36.6145  Fatal Crash\n",
       " 324 │       2018100701    171.701  -42.2478  Fatal Crash\n",
       "\u001b[36m                                             303 rows omitted\u001b[0m"
      ]
     },
     "execution_count": 14,
     "metadata": {},
     "output_type": "execute_result"
    }
   ],
   "source": [
    "Location_Fatal = DataFrame(filter(row -> row.\"Crash.severity\" == \"Fatal Crash\", Location))"
   ]
  },
  {
   "cell_type": "code",
   "execution_count": 16,
   "metadata": {},
   "outputs": [
    {
     "name": "stdout",
     "output_type": "stream",
     "text": [
      "\u001b[1m10×5 DataFrame\u001b[0m\n",
      "\u001b[1m Row \u001b[0m│\u001b[1m Crash.identifier \u001b[0m\u001b[1m Longitude \u001b[0m\u001b[1m Latitude \u001b[0m\u001b[1m Crash.severity \u001b[0m\u001b[1m Elevation \u001b[0m\n",
      "     │\u001b[90m Int64            \u001b[0m\u001b[90m Float64   \u001b[0m\u001b[90m Float64  \u001b[0m\u001b[90m String         \u001b[0m\u001b[90m Float64   \u001b[0m\n",
      "─────┼──────────────────────────────────────────────────────────────────\n",
      "   1 │        201800005    174.437  -36.7459  Fatal Crash          20.0\n",
      "   2 │        201800011    175.971  -37.6502  Fatal Crash          23.0\n",
      "   3 │        201800014    172.775  -43.6725  Fatal Crash         369.0\n",
      "   4 │        201800012    174.988  -37.3338  Fatal Crash         169.0\n",
      "   5 │        201800016    175.589  -40.3092  Fatal Crash          36.0\n",
      "   6 │        201800018    171.202  -44.4802  Fatal Crash          30.0\n",
      "   7 │        201800002    175.699  -40.9505  Fatal Crash         107.0\n",
      "   8 │        201800003    172.536  -43.5173  Fatal Crash          32.0\n",
      "   9 │        201800008    172.924  -43.7522  Fatal Crash          47.0\n",
      "  10 │        201800034    174.41   -35.6451  Fatal Crash           8.0\n"
     ]
    }
   ],
   "source": [
    "# scraping the elevation data from open API\n",
    "Location_Fatal[!, \"Elevation\"] .=  0.0\n",
    "\n",
    "for row in eachrow(Location_Fatal)\n",
    "    # Latitude&Longitude\n",
    "    latitude = row.Latitude\n",
    "    longitude = row.Longitude\n",
    "\n",
    "    # API,URL\n",
    "    url = \"https://api.open-elevation.com/api/v1/lookup?locations=$latitude,$longitude\"\n",
    "\n",
    "    #  GET\n",
    "    response = HTTP.get(url)\n",
    "    data = JSON.parse(String(response.body))\n",
    "\n",
    "\n",
    "    if haskey(data, \"results\") && !isempty(data[\"results\"])\n",
    "        row.Elevation = data[\"results\"][1][\"elevation\"]\n",
    "    end\n",
    "\n",
    "    sleep(1) \n",
    "end\n",
    "\n",
    "\n",
    "println(first(Location_Fatal, 10)) "
   ]
  },
  {
   "cell_type": "code",
   "execution_count": 23,
   "metadata": {},
   "outputs": [
    {
     "data": {
      "text/plain": [
       "\"E:\\\\UC-MADS\\\\DATA 422 DATA Wrangling\\\\Group Project\\\\Location_Fatal.csv\""
      ]
     },
     "execution_count": 23,
     "metadata": {},
     "output_type": "execute_result"
    }
   ],
   "source": [
    "\n",
    "\n",
    "\n",
    "save_path = \"E:\\\\UC-MADS\\\\DATA 422 DATA Wrangling\\\\Group Project\\\\Location_Fatal.csv\"\n",
    "\n",
    "\n",
    "CSV.write(save_path, Location_Fatal)\n"
   ]
  },
  {
   "cell_type": "code",
   "execution_count": 12,
   "metadata": {},
   "outputs": [
    {
     "data": {
      "text/html": [
       "<div><div style = \"float: left;\"><span>1811×4 DataFrame</span></div><div style = \"float: right;\"><span style = \"font-style: italic;\">1786 rows omitted</span></div><div style = \"clear: both;\"></div></div><div class = \"data-frame\" style = \"overflow-x: scroll;\"><table class = \"data-frame\" style = \"margin-bottom: 6px;\"><thead><tr class = \"header\"><th class = \"rowNumber\" style = \"font-weight: bold; text-align: right;\">Row</th><th style = \"text-align: left;\">Crash.identifier</th><th style = \"text-align: left;\">Longitude</th><th style = \"text-align: left;\">Latitude</th><th style = \"text-align: left;\">Crash.severity</th></tr><tr class = \"subheader headerLastRow\"><th class = \"rowNumber\" style = \"font-weight: bold; text-align: right;\"></th><th title = \"Int64\" style = \"text-align: left;\">Int64</th><th title = \"Float64\" style = \"text-align: left;\">Float64</th><th title = \"Float64\" style = \"text-align: left;\">Float64</th><th title = \"String\" style = \"text-align: left;\">String</th></tr></thead><tbody><tr><td class = \"rowNumber\" style = \"font-weight: bold; text-align: right;\">1</td><td style = \"text-align: right;\">201810009</td><td style = \"text-align: right;\">175.23</td><td style = \"text-align: right;\">-37.7234</td><td style = \"text-align: left;\">Serious Crash</td></tr><tr><td class = \"rowNumber\" style = \"font-weight: bold; text-align: right;\">2</td><td style = \"text-align: right;\">201810100</td><td style = \"text-align: right;\">175.803</td><td style = \"text-align: right;\">-38.1954</td><td style = \"text-align: left;\">Serious Crash</td></tr><tr><td class = \"rowNumber\" style = \"font-weight: bold; text-align: right;\">3</td><td style = \"text-align: right;\">201810147</td><td style = \"text-align: right;\">170.157</td><td style = \"text-align: right;\">-45.976</td><td style = \"text-align: left;\">Serious Crash</td></tr><tr><td class = \"rowNumber\" style = \"font-weight: bold; text-align: right;\">4</td><td style = \"text-align: right;\">201810130</td><td style = \"text-align: right;\">174.939</td><td style = \"text-align: right;\">-37.0637</td><td style = \"text-align: left;\">Serious Crash</td></tr><tr><td class = \"rowNumber\" style = \"font-weight: bold; text-align: right;\">5</td><td style = \"text-align: right;\">201810180</td><td style = \"text-align: right;\">174.817</td><td style = \"text-align: right;\">-36.9491</td><td style = \"text-align: left;\">Serious Crash</td></tr><tr><td class = \"rowNumber\" style = \"font-weight: bold; text-align: right;\">6</td><td style = \"text-align: right;\">201810128</td><td style = \"text-align: right;\">174.843</td><td style = \"text-align: right;\">-36.9347</td><td style = \"text-align: left;\">Serious Crash</td></tr><tr><td class = \"rowNumber\" style = \"font-weight: bold; text-align: right;\">7</td><td style = \"text-align: right;\">201810111</td><td style = \"text-align: right;\">167.786</td><td style = \"text-align: right;\">-45.5164</td><td style = \"text-align: left;\">Serious Crash</td></tr><tr><td class = \"rowNumber\" style = \"font-weight: bold; text-align: right;\">8</td><td style = \"text-align: right;\">201810127</td><td style = \"text-align: right;\">175.289</td><td style = \"text-align: right;\">-40.6228</td><td style = \"text-align: left;\">Serious Crash</td></tr><tr><td class = \"rowNumber\" style = \"font-weight: bold; text-align: right;\">9</td><td style = \"text-align: right;\">201810155</td><td style = \"text-align: right;\">175.095</td><td style = \"text-align: right;\">-39.9601</td><td style = \"text-align: left;\">Serious Crash</td></tr><tr><td class = \"rowNumber\" style = \"font-weight: bold; text-align: right;\">10</td><td style = \"text-align: right;\">201810186</td><td style = \"text-align: right;\">170.283</td><td style = \"text-align: right;\">-45.8925</td><td style = \"text-align: left;\">Serious Crash</td></tr><tr><td class = \"rowNumber\" style = \"font-weight: bold; text-align: right;\">11</td><td style = \"text-align: right;\">201810129</td><td style = \"text-align: right;\">176.223</td><td style = \"text-align: right;\">-37.7257</td><td style = \"text-align: left;\">Serious Crash</td></tr><tr><td class = \"rowNumber\" style = \"font-weight: bold; text-align: right;\">12</td><td style = \"text-align: right;\">201810132</td><td style = \"text-align: right;\">174.958</td><td style = \"text-align: right;\">-37.0383</td><td style = \"text-align: left;\">Serious Crash</td></tr><tr><td class = \"rowNumber\" style = \"font-weight: bold; text-align: right;\">13</td><td style = \"text-align: right;\">201810205</td><td style = \"text-align: right;\">172.026</td><td style = \"text-align: right;\">-41.8027</td><td style = \"text-align: left;\">Serious Crash</td></tr><tr><td style = \"text-align: right;\">&vellip;</td><td style = \"text-align: right;\">&vellip;</td><td style = \"text-align: right;\">&vellip;</td><td style = \"text-align: right;\">&vellip;</td><td style = \"text-align: right;\">&vellip;</td></tr><tr><td class = \"rowNumber\" style = \"font-weight: bold; text-align: right;\">1800</td><td style = \"text-align: right;\">201821037</td><td style = \"text-align: right;\">177.001</td><td style = \"text-align: right;\">-38.1942</td><td style = \"text-align: left;\">Serious Crash</td></tr><tr><td class = \"rowNumber\" style = \"font-weight: bold; text-align: right;\">1801</td><td style = \"text-align: right;\">201821102</td><td style = \"text-align: right;\">175.598</td><td style = \"text-align: right;\">-37.9472</td><td style = \"text-align: left;\">Serious Crash</td></tr><tr><td class = \"rowNumber\" style = \"font-weight: bold; text-align: right;\">1802</td><td style = \"text-align: right;\">201821151</td><td style = \"text-align: right;\">174.958</td><td style = \"text-align: right;\">-37.0547</td><td style = \"text-align: left;\">Serious Crash</td></tr><tr><td class = \"rowNumber\" style = \"font-weight: bold; text-align: right;\">1803</td><td style = \"text-align: right;\">201821188</td><td style = \"text-align: right;\">176.274</td><td style = \"text-align: right;\">-37.693</td><td style = \"text-align: left;\">Serious Crash</td></tr><tr><td class = \"rowNumber\" style = \"font-weight: bold; text-align: right;\">1804</td><td style = \"text-align: right;\">201821254</td><td style = \"text-align: right;\">174.678</td><td style = \"text-align: right;\">-36.5889</td><td style = \"text-align: left;\">Serious Crash</td></tr><tr><td class = \"rowNumber\" style = \"font-weight: bold; text-align: right;\">1805</td><td style = \"text-align: right;\">201821260</td><td style = \"text-align: right;\">174.835</td><td style = \"text-align: right;\">-41.1712</td><td style = \"text-align: left;\">Serious Crash</td></tr><tr><td class = \"rowNumber\" style = \"font-weight: bold; text-align: right;\">1806</td><td style = \"text-align: right;\">201895029</td><td style = \"text-align: right;\">174.939</td><td style = \"text-align: right;\">-37.2659</td><td style = \"text-align: left;\">Serious Crash</td></tr><tr><td class = \"rowNumber\" style = \"font-weight: bold; text-align: right;\">1807</td><td style = \"text-align: right;\">201895030</td><td style = \"text-align: right;\">174.436</td><td style = \"text-align: right;\">-36.7186</td><td style = \"text-align: left;\">Serious Crash</td></tr><tr><td class = \"rowNumber\" style = \"font-weight: bold; text-align: right;\">1808</td><td style = \"text-align: right;\">201895043</td><td style = \"text-align: right;\">175.174</td><td style = \"text-align: right;\">-37.6034</td><td style = \"text-align: left;\">Serious Crash</td></tr><tr><td class = \"rowNumber\" style = \"font-weight: bold; text-align: right;\">1809</td><td style = \"text-align: right;\">201895048</td><td style = \"text-align: right;\">175.304</td><td style = \"text-align: right;\">-37.79</td><td style = \"text-align: left;\">Serious Crash</td></tr><tr><td class = \"rowNumber\" style = \"font-weight: bold; text-align: right;\">1810</td><td style = \"text-align: right;\">201895049</td><td style = \"text-align: right;\">174.75</td><td style = \"text-align: right;\">-36.7996</td><td style = \"text-align: left;\">Serious Crash</td></tr><tr><td class = \"rowNumber\" style = \"font-weight: bold; text-align: right;\">1811</td><td style = \"text-align: right;\">201897290</td><td style = \"text-align: right;\">174.83</td><td style = \"text-align: right;\">-41.1828</td><td style = \"text-align: left;\">Serious Crash</td></tr></tbody></table></div>"
      ],
      "text/latex": [
       "\\begin{tabular}{r|cccc}\n",
       "\t& Crash.identifier & Longitude & Latitude & Crash.severity\\\\\n",
       "\t\\hline\n",
       "\t& Int64 & Float64 & Float64 & String\\\\\n",
       "\t\\hline\n",
       "\t1 & 201810009 & 175.23 & -37.7234 & Serious Crash \\\\\n",
       "\t2 & 201810100 & 175.803 & -38.1954 & Serious Crash \\\\\n",
       "\t3 & 201810147 & 170.157 & -45.976 & Serious Crash \\\\\n",
       "\t4 & 201810130 & 174.939 & -37.0637 & Serious Crash \\\\\n",
       "\t5 & 201810180 & 174.817 & -36.9491 & Serious Crash \\\\\n",
       "\t6 & 201810128 & 174.843 & -36.9347 & Serious Crash \\\\\n",
       "\t7 & 201810111 & 167.786 & -45.5164 & Serious Crash \\\\\n",
       "\t8 & 201810127 & 175.289 & -40.6228 & Serious Crash \\\\\n",
       "\t9 & 201810155 & 175.095 & -39.9601 & Serious Crash \\\\\n",
       "\t10 & 201810186 & 170.283 & -45.8925 & Serious Crash \\\\\n",
       "\t11 & 201810129 & 176.223 & -37.7257 & Serious Crash \\\\\n",
       "\t12 & 201810132 & 174.958 & -37.0383 & Serious Crash \\\\\n",
       "\t13 & 201810205 & 172.026 & -41.8027 & Serious Crash \\\\\n",
       "\t14 & 201810208 & 173.504 & -35.4064 & Serious Crash \\\\\n",
       "\t15 & 201810222 & 174.067 & -35.2841 & Serious Crash \\\\\n",
       "\t16 & 201810131 & 170.496 & -45.8888 & Serious Crash \\\\\n",
       "\t17 & 201810332 & 178.151 & -37.5946 & Serious Crash \\\\\n",
       "\t18 & 201810374 & 172.51 & -43.5914 & Serious Crash \\\\\n",
       "\t19 & 201810391 & 174.889 & -37.2998 & Serious Crash \\\\\n",
       "\t20 & 201810193 & 174.986 & -41.1627 & Serious Crash \\\\\n",
       "\t21 & 201810399 & 174.838 & -36.9107 & Serious Crash \\\\\n",
       "\t22 & 201810224 & 174.296 & -35.675 & Serious Crash \\\\\n",
       "\t23 & 201810479 & 175.104 & -37.2148 & Serious Crash \\\\\n",
       "\t24 & 201810485 & 170.515 & -45.8572 & Serious Crash \\\\\n",
       "\t25 & 201810266 & 174.243 & -39.2322 & Serious Crash \\\\\n",
       "\t26 & 201810246 & 174.044 & -35.8214 & Serious Crash \\\\\n",
       "\t27 & 201810317 & 175.215 & -41.1986 & Serious Crash \\\\\n",
       "\t28 & 201810184 & 174.804 & -36.8747 & Serious Crash \\\\\n",
       "\t29 & 201810292 & 176.226 & -38.1151 & Serious Crash \\\\\n",
       "\t30 & 201810299 & 171.773 & -43.3154 & Serious Crash \\\\\n",
       "\t$\\dots$ & $\\dots$ & $\\dots$ & $\\dots$ & $\\dots$ \\\\\n",
       "\\end{tabular}\n"
      ],
      "text/plain": [
       "\u001b[1m1811×4 DataFrame\u001b[0m\n",
       "\u001b[1m  Row \u001b[0m│\u001b[1m Crash.identifier \u001b[0m\u001b[1m Longitude \u001b[0m\u001b[1m Latitude \u001b[0m\u001b[1m Crash.severity \u001b[0m\n",
       "      │\u001b[90m Int64            \u001b[0m\u001b[90m Float64   \u001b[0m\u001b[90m Float64  \u001b[0m\u001b[90m String         \u001b[0m\n",
       "──────┼───────────────────────────────────────────────────────\n",
       "    1 │        201810009    175.23   -37.7234  Serious Crash\n",
       "    2 │        201810100    175.803  -38.1954  Serious Crash\n",
       "    3 │        201810147    170.157  -45.976   Serious Crash\n",
       "    4 │        201810130    174.939  -37.0637  Serious Crash\n",
       "    5 │        201810180    174.817  -36.9491  Serious Crash\n",
       "    6 │        201810128    174.843  -36.9347  Serious Crash\n",
       "    7 │        201810111    167.786  -45.5164  Serious Crash\n",
       "    8 │        201810127    175.289  -40.6228  Serious Crash\n",
       "    9 │        201810155    175.095  -39.9601  Serious Crash\n",
       "   10 │        201810186    170.283  -45.8925  Serious Crash\n",
       "   11 │        201810129    176.223  -37.7257  Serious Crash\n",
       "  ⋮   │        ⋮              ⋮         ⋮            ⋮\n",
       " 1802 │        201821151    174.958  -37.0547  Serious Crash\n",
       " 1803 │        201821188    176.274  -37.693   Serious Crash\n",
       " 1804 │        201821254    174.678  -36.5889  Serious Crash\n",
       " 1805 │        201821260    174.835  -41.1712  Serious Crash\n",
       " 1806 │        201895029    174.939  -37.2659  Serious Crash\n",
       " 1807 │        201895030    174.436  -36.7186  Serious Crash\n",
       " 1808 │        201895043    175.174  -37.6034  Serious Crash\n",
       " 1809 │        201895048    175.304  -37.79    Serious Crash\n",
       " 1810 │        201895049    174.75   -36.7996  Serious Crash\n",
       " 1811 │        201897290    174.83   -41.1828  Serious Crash\n",
       "\u001b[36m                                             1790 rows omitted\u001b[0m"
      ]
     },
     "execution_count": 12,
     "metadata": {},
     "output_type": "execute_result"
    }
   ],
   "source": [
    "Location_Serious = DataFrame(filter(row -> row.\"Crash.severity\" == \"Serious Crash\", Location))"
   ]
  },
  {
   "cell_type": "code",
   "execution_count": 13,
   "metadata": {},
   "outputs": [
    {
     "name": "stdout",
     "output_type": "stream",
     "text": [
      "\u001b[1m10×5 DataFrame\u001b[0m\n",
      "\u001b[1m Row \u001b[0m│\u001b[1m Crash.identifier \u001b[0m\u001b[1m Longitude \u001b[0m\u001b[1m Latitude \u001b[0m\u001b[1m Crash.severity \u001b[0m\u001b[1m Elevation \u001b[0m\n",
      "     │\u001b[90m Int64            \u001b[0m\u001b[90m Float64   \u001b[0m\u001b[90m Float64  \u001b[0m\u001b[90m String         \u001b[0m\u001b[90m Float64   \u001b[0m\n",
      "─────┼──────────────────────────────────────────────────────────────────\n",
      "   1 │        201810009    175.23   -37.7234  Serious Crash        32.0\n",
      "   2 │        201810100    175.803  -38.1954  Serious Crash       295.0\n",
      "   3 │        201810147    170.157  -45.976   Serious Crash         2.0\n",
      "   4 │        201810130    174.939  -37.0637  Serious Crash        22.0\n",
      "   5 │        201810180    174.817  -36.9491  Serious Crash         3.0\n",
      "   6 │        201810128    174.843  -36.9347  Serious Crash        17.0\n",
      "   7 │        201810111    167.786  -45.5164  Serious Crash       253.0\n",
      "   8 │        201810127    175.289  -40.6228  Serious Crash        35.0\n",
      "   9 │        201810155    175.095  -39.9601  Serious Crash        28.0\n",
      "  10 │        201810186    170.283  -45.8925  Serious Crash         5.0\n"
     ]
    }
   ],
   "source": [
    "\n",
    "Location_Serious[!, \"Elevation\"] .=  0.0\n",
    "\n",
    "# each row\n",
    "for row in eachrow(Location_Serious)\n",
    "    # Latitude&Longitude\n",
    "    latitude = row.Latitude\n",
    "    longitude = row.Longitude\n",
    "\n",
    "    # api,url\n",
    "url = \"https://api.open-elevation.com/api/v1/lookup?locations=$latitude,$longitude\"\n",
    "\n",
    "    # GET RESOPNSE \n",
    "    response = HTTP.get(url)\n",
    "    data = JSON.parse(String(response.body))\n",
    "\n",
    "    # get the elevation information and add it into dataframe\n",
    "    if haskey(data, \"results\") && !isempty(data[\"results\"])\n",
    "        row.Elevation = data[\"results\"][1][\"elevation\"]\n",
    "    end\n",
    "\n",
    "    # 1s delay\n",
    "    sleep(1)  # 1秒的延迟（根据需要调整）\n",
    "end\n",
    "\n",
    "\n",
    "println(first(Location_Serious, 10)) "
   ]
  },
  {
   "cell_type": "code",
   "execution_count": 14,
   "metadata": {},
   "outputs": [
    {
     "data": {
      "text/plain": [
       "\"E:\\\\UC-MADS\\\\DATA 422 DATA Wrangling\\\\Group Project\\\\Location_Serious.csv\""
      ]
     },
     "execution_count": 14,
     "metadata": {},
     "output_type": "execute_result"
    }
   ],
   "source": [
    "\n",
    "save_path = \"E:\\\\UC-MADS\\\\DATA 422 DATA Wrangling\\\\Group Project\\\\Location_Serious.csv\"\n",
    "\n",
    "CSV.write(save_path, Location_Serious)"
   ]
  },
  {
   "cell_type": "code",
   "execution_count": 15,
   "metadata": {},
   "outputs": [
    {
     "data": {
      "text/html": [
       "<div><div style = \"float: left;\"><span>8208×4 DataFrame</span></div><div style = \"float: right;\"><span style = \"font-style: italic;\">8183 rows omitted</span></div><div style = \"clear: both;\"></div></div><div class = \"data-frame\" style = \"overflow-x: scroll;\"><table class = \"data-frame\" style = \"margin-bottom: 6px;\"><thead><tr class = \"header\"><th class = \"rowNumber\" style = \"font-weight: bold; text-align: right;\">Row</th><th style = \"text-align: left;\">Crash.identifier</th><th style = \"text-align: left;\">Longitude</th><th style = \"text-align: left;\">Latitude</th><th style = \"text-align: left;\">Crash.severity</th></tr><tr class = \"subheader headerLastRow\"><th class = \"rowNumber\" style = \"font-weight: bold; text-align: right;\"></th><th title = \"Int64\" style = \"text-align: left;\">Int64</th><th title = \"Float64\" style = \"text-align: left;\">Float64</th><th title = \"Float64\" style = \"text-align: left;\">Float64</th><th title = \"String\" style = \"text-align: left;\">String</th></tr></thead><tbody><tr><td class = \"rowNumber\" style = \"font-weight: bold; text-align: right;\">1</td><td style = \"text-align: right;\">201810104</td><td style = \"text-align: right;\">173.43</td><td style = \"text-align: right;\">-41.227</td><td style = \"text-align: left;\">Minor Crash</td></tr><tr><td class = \"rowNumber\" style = \"font-weight: bold; text-align: right;\">2</td><td style = \"text-align: right;\">201810121</td><td style = \"text-align: right;\">176.328</td><td style = \"text-align: right;\">-38.0838</td><td style = \"text-align: left;\">Minor Crash</td></tr><tr><td class = \"rowNumber\" style = \"font-weight: bold; text-align: right;\">3</td><td style = \"text-align: right;\">201800318</td><td style = \"text-align: right;\">173.952</td><td style = \"text-align: right;\">-41.3897</td><td style = \"text-align: left;\">Minor Crash</td></tr><tr><td class = \"rowNumber\" style = \"font-weight: bold; text-align: right;\">4</td><td style = \"text-align: right;\">201810000</td><td style = \"text-align: right;\">176.189</td><td style = \"text-align: right;\">-37.7079</td><td style = \"text-align: left;\">Minor Crash</td></tr><tr><td class = \"rowNumber\" style = \"font-weight: bold; text-align: right;\">5</td><td style = \"text-align: right;\">201810103</td><td style = \"text-align: right;\">176.121</td><td style = \"text-align: right;\">-38.6091</td><td style = \"text-align: left;\">Minor Crash</td></tr><tr><td class = \"rowNumber\" style = \"font-weight: bold; text-align: right;\">6</td><td style = \"text-align: right;\">201810105</td><td style = \"text-align: right;\">174.148</td><td style = \"text-align: right;\">-39.1339</td><td style = \"text-align: left;\">Minor Crash</td></tr><tr><td class = \"rowNumber\" style = \"font-weight: bold; text-align: right;\">7</td><td style = \"text-align: right;\">201810120</td><td style = \"text-align: right;\">176.188</td><td style = \"text-align: right;\">-37.6452</td><td style = \"text-align: left;\">Minor Crash</td></tr><tr><td class = \"rowNumber\" style = \"font-weight: bold; text-align: right;\">8</td><td style = \"text-align: right;\">201810124</td><td style = \"text-align: right;\">174.691</td><td style = \"text-align: right;\">-36.5334</td><td style = \"text-align: left;\">Minor Crash</td></tr><tr><td class = \"rowNumber\" style = \"font-weight: bold; text-align: right;\">9</td><td style = \"text-align: right;\">201810139</td><td style = \"text-align: right;\">175.672</td><td style = \"text-align: right;\">-40.3288</td><td style = \"text-align: left;\">Minor Crash</td></tr><tr><td class = \"rowNumber\" style = \"font-weight: bold; text-align: right;\">10</td><td style = \"text-align: right;\">201810143</td><td style = \"text-align: right;\">175.29</td><td style = \"text-align: right;\">-37.7837</td><td style = \"text-align: left;\">Minor Crash</td></tr><tr><td class = \"rowNumber\" style = \"font-weight: bold; text-align: right;\">11</td><td style = \"text-align: right;\">201810137</td><td style = \"text-align: right;\">169.328</td><td style = \"text-align: right;\">-44.8991</td><td style = \"text-align: left;\">Minor Crash</td></tr><tr><td class = \"rowNumber\" style = \"font-weight: bold; text-align: right;\">12</td><td style = \"text-align: right;\">201810146</td><td style = \"text-align: right;\">175.152</td><td style = \"text-align: right;\">-40.7647</td><td style = \"text-align: left;\">Minor Crash</td></tr><tr><td class = \"rowNumber\" style = \"font-weight: bold; text-align: right;\">13</td><td style = \"text-align: right;\">201810165</td><td style = \"text-align: right;\">174.097</td><td style = \"text-align: right;\">-39.0804</td><td style = \"text-align: left;\">Minor Crash</td></tr><tr><td style = \"text-align: right;\">&vellip;</td><td style = \"text-align: right;\">&vellip;</td><td style = \"text-align: right;\">&vellip;</td><td style = \"text-align: right;\">&vellip;</td><td style = \"text-align: right;\">&vellip;</td></tr><tr><td class = \"rowNumber\" style = \"font-weight: bold; text-align: right;\">8197</td><td style = \"text-align: right;\">201895203</td><td style = \"text-align: right;\">174.806</td><td style = \"text-align: right;\">-36.9012</td><td style = \"text-align: left;\">Minor Crash</td></tr><tr><td class = \"rowNumber\" style = \"font-weight: bold; text-align: right;\">8198</td><td style = \"text-align: right;\">201895208</td><td style = \"text-align: right;\">175.047</td><td style = \"text-align: right;\">-39.9342</td><td style = \"text-align: left;\">Minor Crash</td></tr><tr><td class = \"rowNumber\" style = \"font-weight: bold; text-align: right;\">8199</td><td style = \"text-align: right;\">201895224</td><td style = \"text-align: right;\">174.757</td><td style = \"text-align: right;\">-36.7937</td><td style = \"text-align: left;\">Minor Crash</td></tr><tr><td class = \"rowNumber\" style = \"font-weight: bold; text-align: right;\">8200</td><td style = \"text-align: right;\">201895235</td><td style = \"text-align: right;\">174.792</td><td style = \"text-align: right;\">-36.9441</td><td style = \"text-align: left;\">Minor Crash</td></tr><tr><td class = \"rowNumber\" style = \"font-weight: bold; text-align: right;\">8201</td><td style = \"text-align: right;\">201895236</td><td style = \"text-align: right;\">175.428</td><td style = \"text-align: right;\">-38.0743</td><td style = \"text-align: left;\">Minor Crash</td></tr><tr><td class = \"rowNumber\" style = \"font-weight: bold; text-align: right;\">8202</td><td style = \"text-align: right;\">201895265</td><td style = \"text-align: right;\">175.027</td><td style = \"text-align: right;\">-40.8798</td><td style = \"text-align: left;\">Minor Crash</td></tr><tr><td class = \"rowNumber\" style = \"font-weight: bold; text-align: right;\">8203</td><td style = \"text-align: right;\">201895268</td><td style = \"text-align: right;\">174.873</td><td style = \"text-align: right;\">-37.2224</td><td style = \"text-align: left;\">Minor Crash</td></tr><tr><td class = \"rowNumber\" style = \"font-weight: bold; text-align: right;\">8204</td><td style = \"text-align: right;\">201895285</td><td style = \"text-align: right;\">174.727</td><td style = \"text-align: right;\">-36.7352</td><td style = \"text-align: left;\">Minor Crash</td></tr><tr><td class = \"rowNumber\" style = \"font-weight: bold; text-align: right;\">8205</td><td style = \"text-align: right;\">201896513</td><td style = \"text-align: right;\">172.664</td><td style = \"text-align: right;\">-43.568</td><td style = \"text-align: left;\">Minor Crash</td></tr><tr><td class = \"rowNumber\" style = \"font-weight: bold; text-align: right;\">8206</td><td style = \"text-align: right;\">201898484</td><td style = \"text-align: right;\">174.885</td><td style = \"text-align: right;\">-36.9078</td><td style = \"text-align: left;\">Minor Crash</td></tr><tr><td class = \"rowNumber\" style = \"font-weight: bold; text-align: right;\">8207</td><td style = \"text-align: right;\">2018100774</td><td style = \"text-align: right;\">174.773</td><td style = \"text-align: right;\">-36.8716</td><td style = \"text-align: left;\">Minor Crash</td></tr><tr><td class = \"rowNumber\" style = \"font-weight: bold; text-align: right;\">8208</td><td style = \"text-align: right;\">2018101385</td><td style = \"text-align: right;\">173.554</td><td style = \"text-align: right;\">-35.6215</td><td style = \"text-align: left;\">Minor Crash</td></tr></tbody></table></div>"
      ],
      "text/latex": [
       "\\begin{tabular}{r|cccc}\n",
       "\t& Crash.identifier & Longitude & Latitude & Crash.severity\\\\\n",
       "\t\\hline\n",
       "\t& Int64 & Float64 & Float64 & String\\\\\n",
       "\t\\hline\n",
       "\t1 & 201810104 & 173.43 & -41.227 & Minor Crash \\\\\n",
       "\t2 & 201810121 & 176.328 & -38.0838 & Minor Crash \\\\\n",
       "\t3 & 201800318 & 173.952 & -41.3897 & Minor Crash \\\\\n",
       "\t4 & 201810000 & 176.189 & -37.7079 & Minor Crash \\\\\n",
       "\t5 & 201810103 & 176.121 & -38.6091 & Minor Crash \\\\\n",
       "\t6 & 201810105 & 174.148 & -39.1339 & Minor Crash \\\\\n",
       "\t7 & 201810120 & 176.188 & -37.6452 & Minor Crash \\\\\n",
       "\t8 & 201810124 & 174.691 & -36.5334 & Minor Crash \\\\\n",
       "\t9 & 201810139 & 175.672 & -40.3288 & Minor Crash \\\\\n",
       "\t10 & 201810143 & 175.29 & -37.7837 & Minor Crash \\\\\n",
       "\t11 & 201810137 & 169.328 & -44.8991 & Minor Crash \\\\\n",
       "\t12 & 201810146 & 175.152 & -40.7647 & Minor Crash \\\\\n",
       "\t13 & 201810165 & 174.097 & -39.0804 & Minor Crash \\\\\n",
       "\t14 & 201810148 & 174.858 & -41.1436 & Minor Crash \\\\\n",
       "\t15 & 201810152 & 174.737 & -36.7696 & Minor Crash \\\\\n",
       "\t16 & 201810102 & 173.869 & -35.9413 & Minor Crash \\\\\n",
       "\t17 & 201810110 & 174.716 & -36.3539 & Minor Crash \\\\\n",
       "\t18 & 201810140 & 175.159 & -37.5676 & Minor Crash \\\\\n",
       "\t19 & 201810141 & 174.946 & -37.1079 & Minor Crash \\\\\n",
       "\t20 & 201810178 & 174.076 & -39.0602 & Minor Crash \\\\\n",
       "\t21 & 201810115 & 175.732 & -37.7569 & Minor Crash \\\\\n",
       "\t22 & 201810123 & 176.081 & -37.7531 & Minor Crash \\\\\n",
       "\t23 & 201810101 & 174.919 & -41.0986 & Minor Crash \\\\\n",
       "\t24 & 201810106 & 174.212 & -35.7563 & Minor Crash \\\\\n",
       "\t25 & 201810108 & 174.701 & -36.9289 & Minor Crash \\\\\n",
       "\t26 & 201810126 & 175.769 & -39.1767 & Minor Crash \\\\\n",
       "\t27 & 201810171 & 175.641 & -37.1536 & Minor Crash \\\\\n",
       "\t28 & 201810174 & 168.734 & -45.0204 & Minor Crash \\\\\n",
       "\t29 & 201810176 & 174.282 & -39.5866 & Minor Crash \\\\\n",
       "\t30 & 201810168 & 174.092 & -35.8137 & Minor Crash \\\\\n",
       "\t$\\dots$ & $\\dots$ & $\\dots$ & $\\dots$ & $\\dots$ \\\\\n",
       "\\end{tabular}\n"
      ],
      "text/plain": [
       "\u001b[1m8208×4 DataFrame\u001b[0m\n",
       "\u001b[1m  Row \u001b[0m│\u001b[1m Crash.identifier \u001b[0m\u001b[1m Longitude \u001b[0m\u001b[1m Latitude \u001b[0m\u001b[1m Crash.severity \u001b[0m\n",
       "      │\u001b[90m Int64            \u001b[0m\u001b[90m Float64   \u001b[0m\u001b[90m Float64  \u001b[0m\u001b[90m String         \u001b[0m\n",
       "──────┼───────────────────────────────────────────────────────\n",
       "    1 │        201810104    173.43   -41.227   Minor Crash\n",
       "    2 │        201810121    176.328  -38.0838  Minor Crash\n",
       "    3 │        201800318    173.952  -41.3897  Minor Crash\n",
       "    4 │        201810000    176.189  -37.7079  Minor Crash\n",
       "    5 │        201810103    176.121  -38.6091  Minor Crash\n",
       "    6 │        201810105    174.148  -39.1339  Minor Crash\n",
       "    7 │        201810120    176.188  -37.6452  Minor Crash\n",
       "    8 │        201810124    174.691  -36.5334  Minor Crash\n",
       "    9 │        201810139    175.672  -40.3288  Minor Crash\n",
       "   10 │        201810143    175.29   -37.7837  Minor Crash\n",
       "   11 │        201810137    169.328  -44.8991  Minor Crash\n",
       "  ⋮   │        ⋮              ⋮         ⋮            ⋮\n",
       " 8199 │        201895224    174.757  -36.7937  Minor Crash\n",
       " 8200 │        201895235    174.792  -36.9441  Minor Crash\n",
       " 8201 │        201895236    175.428  -38.0743  Minor Crash\n",
       " 8202 │        201895265    175.027  -40.8798  Minor Crash\n",
       " 8203 │        201895268    174.873  -37.2224  Minor Crash\n",
       " 8204 │        201895285    174.727  -36.7352  Minor Crash\n",
       " 8205 │        201896513    172.664  -43.568   Minor Crash\n",
       " 8206 │        201898484    174.885  -36.9078  Minor Crash\n",
       " 8207 │       2018100774    174.773  -36.8716  Minor Crash\n",
       " 8208 │       2018101385    173.554  -35.6215  Minor Crash\n",
       "\u001b[36m                                             8187 rows omitted\u001b[0m"
      ]
     },
     "execution_count": 15,
     "metadata": {},
     "output_type": "execute_result"
    }
   ],
   "source": [
    "Location_Minor = DataFrame(filter(row -> row.\"Crash.severity\" == \"Minor Crash\", Location))"
   ]
  },
  {
   "cell_type": "code",
   "execution_count": 28,
   "metadata": {
    "collapsed": true,
    "jupyter": {
     "outputs_hidden": true,
     "source_hidden": true
    }
   },
   "outputs": [
    {
     "ename": "LoadError",
     "evalue": "HTTP.ConnectError for url = `https://api.open-elevation.com/api/v1/lookup?locations=-37.9036047,176.7612474`: DNSError: api.open-elevation.com, unknown node or service (EAI_NONAME)\nStacktrace:\n [1] \u001b[0m\u001b[1mgetalladdrinfo\u001b[22m\u001b[0m\u001b[1m(\u001b[22m\u001b[90mhost\u001b[39m::\u001b[0mString\u001b[0m\u001b[1m)\u001b[22m\n\u001b[90m   @\u001b[39m \u001b[36mSockets\u001b[39m \u001b[90mC:\\Users\\Pony\\AppData\\Local\\Programs\\Julia-1.9.2\\share\\julia\\stdlib\\v1.9\\Sockets\\src\\\u001b[39m\u001b[90m\u001b[4maddrinfo.jl:113\u001b[24m\u001b[39m\n [2] \u001b[0m\u001b[1mgetalladdrinfo\u001b[22m\n\u001b[90m   @\u001b[39m \u001b[90mC:\\Users\\Pony\\AppData\\Local\\Programs\\Julia-1.9.2\\share\\julia\\stdlib\\v1.9\\Sockets\\src\\\u001b[39m\u001b[90m\u001b[4maddrinfo.jl:122\u001b[24m\u001b[39m\u001b[90m [inlined]\u001b[39m\n [3] \u001b[0m\u001b[1mgetconnection\u001b[22m\u001b[0m\u001b[1m(\u001b[22m::\u001b[0mType\u001b[90m{Sockets.TCPSocket}\u001b[39m, \u001b[90mhost\u001b[39m::\u001b[0mSubString\u001b[90m{String}\u001b[39m, \u001b[90mport\u001b[39m::\u001b[0mString; \u001b[90mkeepalive\u001b[39m::\u001b[0mBool, \u001b[90mreadtimeout\u001b[39m::\u001b[0mInt64, \u001b[90mkw\u001b[39m::\u001b[0mBase.Pairs\u001b[90m{Symbol, Union{Nothing, Integer}, NTuple{4, Symbol}, NamedTuple{(:require_ssl_verification, :iofunction, :decompress, :verbose), Tuple{Bool, Nothing, Nothing, Int64}}}\u001b[39m\u001b[0m\u001b[1m)\u001b[22m\n\u001b[90m   @\u001b[39m \u001b[35mHTTP.Connections\u001b[39m \u001b[90mC:\\Users\\Pony\\.julia\\packages\\HTTP\\SN7VW\\src\\\u001b[39m\u001b[90m\u001b[4mConnections.jl:515\u001b[24m\u001b[39m\n [4] \u001b[0m\u001b[1mgetconnection\u001b[22m\n\u001b[90m   @\u001b[39m \u001b[90mC:\\Users\\Pony\\.julia\\packages\\HTTP\\SN7VW\\src\\\u001b[39m\u001b[90m\u001b[4mConnections.jl:503\u001b[24m\u001b[39m\u001b[90m [inlined]\u001b[39m\n [5] \u001b[0m\u001b[1mgetconnection\u001b[22m\u001b[0m\u001b[1m(\u001b[22m::\u001b[0mType\u001b[90m{OpenSSL.SSLStream}\u001b[39m, \u001b[90mhost\u001b[39m::\u001b[0mSubString\u001b[90m{String}\u001b[39m, \u001b[90mport\u001b[39m::\u001b[0mSubString\u001b[90m{String}\u001b[39m; \u001b[90mkw\u001b[39m::\u001b[0mBase.Pairs\u001b[90m{Symbol, Union{Nothing, Integer}, NTuple{6, Symbol}, NamedTuple{(:require_ssl_verification, :keepalive, :readtimeout, :iofunction, :decompress, :verbose), Tuple{Bool, Bool, Int64, Nothing, Nothing, Int64}}}\u001b[39m\u001b[0m\u001b[1m)\u001b[22m\n\u001b[90m   @\u001b[39m \u001b[35mHTTP.Connections\u001b[39m \u001b[90mC:\\Users\\Pony\\.julia\\packages\\HTTP\\SN7VW\\src\\\u001b[39m\u001b[90m\u001b[4mConnections.jl:580\u001b[24m\u001b[39m\n [6] \u001b[0m\u001b[1mgetconnection\u001b[22m\n\u001b[90m   @\u001b[39m \u001b[90mC:\\Users\\Pony\\.julia\\packages\\HTTP\\SN7VW\\src\\\u001b[39m\u001b[90m\u001b[4mConnections.jl:573\u001b[24m\u001b[39m\u001b[90m [inlined]\u001b[39m\n [7] \u001b[0m\u001b[1m#10\u001b[22m\n\u001b[90m   @\u001b[39m \u001b[90mC:\\Users\\Pony\\.julia\\packages\\HTTP\\SN7VW\\src\\\u001b[39m\u001b[90m\u001b[4mConnections.jl:462\u001b[24m\u001b[39m\u001b[90m [inlined]\u001b[39m\n [8] \u001b[0m\u001b[1mmacro expansion\u001b[22m\n\u001b[90m   @\u001b[39m \u001b[90mC:\\Users\\Pony\\.julia\\packages\\ConcurrentUtilities\\9VvmK\\src\\\u001b[39m\u001b[90m\u001b[4mtry_with_timeout.jl:82\u001b[24m\u001b[39m\u001b[90m [inlined]\u001b[39m\n [9] \u001b[0m\u001b[1m(::ConcurrentUtilities.var\"#2#4\"{Any, Timer, ConcurrentUtilities.TimedOut{Any}, Channel{Any}, HTTP.Connections.var\"#10#13\"{OpenSSL.SSLStream, Bool, Bool, Base.Pairs{Symbol, Union{Nothing, Int64}, NTuple{4, Symbol}, NamedTuple{(:readtimeout, :iofunction, :decompress, :verbose), Tuple{Int64, Nothing, Nothing, Int64}}}, SubString{String}, SubString{String}}})\u001b[22m\u001b[0m\u001b[1m(\u001b[22m\u001b[0m\u001b[1m)\u001b[22m\n\u001b[90m   @\u001b[39m \u001b[32mConcurrentUtilities\u001b[39m \u001b[90m.\\\u001b[39m\u001b[90m\u001b[4mthreadingconstructs.jl:404\u001b[24m\u001b[39m",
     "output_type": "error",
     "traceback": [
      "HTTP.ConnectError for url = `https://api.open-elevation.com/api/v1/lookup?locations=-37.9036047,176.7612474`: DNSError: api.open-elevation.com, unknown node or service (EAI_NONAME)\nStacktrace:\n [1] \u001b[0m\u001b[1mgetalladdrinfo\u001b[22m\u001b[0m\u001b[1m(\u001b[22m\u001b[90mhost\u001b[39m::\u001b[0mString\u001b[0m\u001b[1m)\u001b[22m\n\u001b[90m   @\u001b[39m \u001b[36mSockets\u001b[39m \u001b[90mC:\\Users\\Pony\\AppData\\Local\\Programs\\Julia-1.9.2\\share\\julia\\stdlib\\v1.9\\Sockets\\src\\\u001b[39m\u001b[90m\u001b[4maddrinfo.jl:113\u001b[24m\u001b[39m\n [2] \u001b[0m\u001b[1mgetalladdrinfo\u001b[22m\n\u001b[90m   @\u001b[39m \u001b[90mC:\\Users\\Pony\\AppData\\Local\\Programs\\Julia-1.9.2\\share\\julia\\stdlib\\v1.9\\Sockets\\src\\\u001b[39m\u001b[90m\u001b[4maddrinfo.jl:122\u001b[24m\u001b[39m\u001b[90m [inlined]\u001b[39m\n [3] \u001b[0m\u001b[1mgetconnection\u001b[22m\u001b[0m\u001b[1m(\u001b[22m::\u001b[0mType\u001b[90m{Sockets.TCPSocket}\u001b[39m, \u001b[90mhost\u001b[39m::\u001b[0mSubString\u001b[90m{String}\u001b[39m, \u001b[90mport\u001b[39m::\u001b[0mString; \u001b[90mkeepalive\u001b[39m::\u001b[0mBool, \u001b[90mreadtimeout\u001b[39m::\u001b[0mInt64, \u001b[90mkw\u001b[39m::\u001b[0mBase.Pairs\u001b[90m{Symbol, Union{Nothing, Integer}, NTuple{4, Symbol}, NamedTuple{(:require_ssl_verification, :iofunction, :decompress, :verbose), Tuple{Bool, Nothing, Nothing, Int64}}}\u001b[39m\u001b[0m\u001b[1m)\u001b[22m\n\u001b[90m   @\u001b[39m \u001b[35mHTTP.Connections\u001b[39m \u001b[90mC:\\Users\\Pony\\.julia\\packages\\HTTP\\SN7VW\\src\\\u001b[39m\u001b[90m\u001b[4mConnections.jl:515\u001b[24m\u001b[39m\n [4] \u001b[0m\u001b[1mgetconnection\u001b[22m\n\u001b[90m   @\u001b[39m \u001b[90mC:\\Users\\Pony\\.julia\\packages\\HTTP\\SN7VW\\src\\\u001b[39m\u001b[90m\u001b[4mConnections.jl:503\u001b[24m\u001b[39m\u001b[90m [inlined]\u001b[39m\n [5] \u001b[0m\u001b[1mgetconnection\u001b[22m\u001b[0m\u001b[1m(\u001b[22m::\u001b[0mType\u001b[90m{OpenSSL.SSLStream}\u001b[39m, \u001b[90mhost\u001b[39m::\u001b[0mSubString\u001b[90m{String}\u001b[39m, \u001b[90mport\u001b[39m::\u001b[0mSubString\u001b[90m{String}\u001b[39m; \u001b[90mkw\u001b[39m::\u001b[0mBase.Pairs\u001b[90m{Symbol, Union{Nothing, Integer}, NTuple{6, Symbol}, NamedTuple{(:require_ssl_verification, :keepalive, :readtimeout, :iofunction, :decompress, :verbose), Tuple{Bool, Bool, Int64, Nothing, Nothing, Int64}}}\u001b[39m\u001b[0m\u001b[1m)\u001b[22m\n\u001b[90m   @\u001b[39m \u001b[35mHTTP.Connections\u001b[39m \u001b[90mC:\\Users\\Pony\\.julia\\packages\\HTTP\\SN7VW\\src\\\u001b[39m\u001b[90m\u001b[4mConnections.jl:580\u001b[24m\u001b[39m\n [6] \u001b[0m\u001b[1mgetconnection\u001b[22m\n\u001b[90m   @\u001b[39m \u001b[90mC:\\Users\\Pony\\.julia\\packages\\HTTP\\SN7VW\\src\\\u001b[39m\u001b[90m\u001b[4mConnections.jl:573\u001b[24m\u001b[39m\u001b[90m [inlined]\u001b[39m\n [7] \u001b[0m\u001b[1m#10\u001b[22m\n\u001b[90m   @\u001b[39m \u001b[90mC:\\Users\\Pony\\.julia\\packages\\HTTP\\SN7VW\\src\\\u001b[39m\u001b[90m\u001b[4mConnections.jl:462\u001b[24m\u001b[39m\u001b[90m [inlined]\u001b[39m\n [8] \u001b[0m\u001b[1mmacro expansion\u001b[22m\n\u001b[90m   @\u001b[39m \u001b[90mC:\\Users\\Pony\\.julia\\packages\\ConcurrentUtilities\\9VvmK\\src\\\u001b[39m\u001b[90m\u001b[4mtry_with_timeout.jl:82\u001b[24m\u001b[39m\u001b[90m [inlined]\u001b[39m\n [9] \u001b[0m\u001b[1m(::ConcurrentUtilities.var\"#2#4\"{Any, Timer, ConcurrentUtilities.TimedOut{Any}, Channel{Any}, HTTP.Connections.var\"#10#13\"{OpenSSL.SSLStream, Bool, Bool, Base.Pairs{Symbol, Union{Nothing, Int64}, NTuple{4, Symbol}, NamedTuple{(:readtimeout, :iofunction, :decompress, :verbose), Tuple{Int64, Nothing, Nothing, Int64}}}, SubString{String}, SubString{String}}})\u001b[22m\u001b[0m\u001b[1m(\u001b[22m\u001b[0m\u001b[1m)\u001b[22m\n\u001b[90m   @\u001b[39m \u001b[32mConcurrentUtilities\u001b[39m \u001b[90m.\\\u001b[39m\u001b[90m\u001b[4mthreadingconstructs.jl:404\u001b[24m\u001b[39m",
      "",
      "Stacktrace:",
      "  [1] (::HTTP.ConnectionRequest.var\"#connections#4\"{HTTP.ConnectionRequest.var\"#connections#1#5\"{HTTP.TimeoutRequest.var\"#timeouts#3\"{HTTP.TimeoutRequest.var\"#timeouts#1#4\"{HTTP.ExceptionRequest.var\"#exceptions#2\"{HTTP.ExceptionRequest.var\"#exceptions#1#3\"{typeof(HTTP.StreamRequest.streamlayer)}}}}}})(req::HTTP.Messages.Request; proxy::Nothing, socket_type::Type, socket_type_tls::Type, readtimeout::Int64, connect_timeout::Int64, logerrors::Bool, logtag::Nothing, kw::Base.Pairs{Symbol, Union{Nothing, Int64}, Tuple{Symbol, Symbol, Symbol}, NamedTuple{(:iofunction, :decompress, :verbose), Tuple{Nothing, Nothing, Int64}}})",
      "    @ HTTP.ConnectionRequest C:\\Users\\Pony\\.julia\\packages\\HTTP\\SN7VW\\src\\clientlayers\\ConnectionRequest.jl:87",
      "  [2] (::Base.var\"#90#92\"{Base.var\"#90#91#93\"{ExponentialBackOff, HTTP.RetryRequest.var\"#2#5\"{Int64, typeof(HTTP.RetryRequest.FALSE), HTTP.Messages.Request, Base.RefValue{Int64}}, HTTP.ConnectionRequest.var\"#connections#4\"{HTTP.ConnectionRequest.var\"#connections#1#5\"{HTTP.TimeoutRequest.var\"#timeouts#3\"{HTTP.TimeoutRequest.var\"#timeouts#1#4\"{HTTP.ExceptionRequest.var\"#exceptions#2\"{HTTP.ExceptionRequest.var\"#exceptions#1#3\"{typeof(HTTP.StreamRequest.streamlayer)}}}}}}}})(args::HTTP.Messages.Request; kwargs::Base.Pairs{Symbol, Union{Nothing, Int64}, Tuple{Symbol, Symbol, Symbol}, NamedTuple{(:iofunction, :decompress, :verbose), Tuple{Nothing, Nothing, Int64}}})",
      "    @ Base .\\error.jl:296",
      "  [3] (::HTTP.RetryRequest.var\"#manageretries#3\"{HTTP.RetryRequest.var\"#manageretries#1#4\"{HTTP.ConnectionRequest.var\"#connections#4\"{HTTP.ConnectionRequest.var\"#connections#1#5\"{HTTP.TimeoutRequest.var\"#timeouts#3\"{HTTP.TimeoutRequest.var\"#timeouts#1#4\"{HTTP.ExceptionRequest.var\"#exceptions#2\"{HTTP.ExceptionRequest.var\"#exceptions#1#3\"{typeof(HTTP.StreamRequest.streamlayer)}}}}}}}})(req::HTTP.Messages.Request; retry::Bool, retries::Int64, retry_delays::ExponentialBackOff, retry_check::Function, retry_non_idempotent::Bool, kw::Base.Pairs{Symbol, Union{Nothing, Int64}, Tuple{Symbol, Symbol, Symbol}, NamedTuple{(:iofunction, :decompress, :verbose), Tuple{Nothing, Nothing, Int64}}})",
      "    @ HTTP.RetryRequest C:\\Users\\Pony\\.julia\\packages\\HTTP\\SN7VW\\src\\clientlayers\\RetryRequest.jl:75",
      "  [4] manageretries",
      "    @ C:\\Users\\Pony\\.julia\\packages\\HTTP\\SN7VW\\src\\clientlayers\\RetryRequest.jl:30 [inlined]",
      "  [5] (::HTTP.CookieRequest.var\"#managecookies#4\"{HTTP.CookieRequest.var\"#managecookies#1#5\"{HTTP.RetryRequest.var\"#manageretries#3\"{HTTP.RetryRequest.var\"#manageretries#1#4\"{HTTP.ConnectionRequest.var\"#connections#4\"{HTTP.ConnectionRequest.var\"#connections#1#5\"{HTTP.TimeoutRequest.var\"#timeouts#3\"{HTTP.TimeoutRequest.var\"#timeouts#1#4\"{HTTP.ExceptionRequest.var\"#exceptions#2\"{HTTP.ExceptionRequest.var\"#exceptions#1#3\"{typeof(HTTP.StreamRequest.streamlayer)}}}}}}}}}})(req::HTTP.Messages.Request; cookies::Bool, cookiejar::HTTP.Cookies.CookieJar, kw::Base.Pairs{Symbol, Union{Nothing, Int64}, Tuple{Symbol, Symbol, Symbol}, NamedTuple{(:iofunction, :decompress, :verbose), Tuple{Nothing, Nothing, Int64}}})",
      "    @ HTTP.CookieRequest C:\\Users\\Pony\\.julia\\packages\\HTTP\\SN7VW\\src\\clientlayers\\CookieRequest.jl:42",
      "  [6] managecookies",
      "    @ C:\\Users\\Pony\\.julia\\packages\\HTTP\\SN7VW\\src\\clientlayers\\CookieRequest.jl:19 [inlined]",
      "  [7] (::HTTP.HeadersRequest.var\"#defaultheaders#2\"{HTTP.HeadersRequest.var\"#defaultheaders#1#3\"{HTTP.CookieRequest.var\"#managecookies#4\"{HTTP.CookieRequest.var\"#managecookies#1#5\"{HTTP.RetryRequest.var\"#manageretries#3\"{HTTP.RetryRequest.var\"#manageretries#1#4\"{HTTP.ConnectionRequest.var\"#connections#4\"{HTTP.ConnectionRequest.var\"#connections#1#5\"{HTTP.TimeoutRequest.var\"#timeouts#3\"{HTTP.TimeoutRequest.var\"#timeouts#1#4\"{HTTP.ExceptionRequest.var\"#exceptions#2\"{HTTP.ExceptionRequest.var\"#exceptions#1#3\"{typeof(HTTP.StreamRequest.streamlayer)}}}}}}}}}}}})(req::HTTP.Messages.Request; iofunction::Nothing, decompress::Nothing, basicauth::Bool, detect_content_type::Bool, canonicalize_headers::Bool, kw::Base.Pairs{Symbol, Int64, Tuple{Symbol}, NamedTuple{(:verbose,), Tuple{Int64}}})",
      "    @ HTTP.HeadersRequest C:\\Users\\Pony\\.julia\\packages\\HTTP\\SN7VW\\src\\clientlayers\\HeadersRequest.jl:71",
      "  [8] defaultheaders",
      "    @ C:\\Users\\Pony\\.julia\\packages\\HTTP\\SN7VW\\src\\clientlayers\\HeadersRequest.jl:14 [inlined]",
      "  [9] (::HTTP.RedirectRequest.var\"#redirects#3\"{HTTP.RedirectRequest.var\"#redirects#1#4\"{HTTP.HeadersRequest.var\"#defaultheaders#2\"{HTTP.HeadersRequest.var\"#defaultheaders#1#3\"{HTTP.CookieRequest.var\"#managecookies#4\"{HTTP.CookieRequest.var\"#managecookies#1#5\"{HTTP.RetryRequest.var\"#manageretries#3\"{HTTP.RetryRequest.var\"#manageretries#1#4\"{HTTP.ConnectionRequest.var\"#connections#4\"{HTTP.ConnectionRequest.var\"#connections#1#5\"{HTTP.TimeoutRequest.var\"#timeouts#3\"{HTTP.TimeoutRequest.var\"#timeouts#1#4\"{HTTP.ExceptionRequest.var\"#exceptions#2\"{HTTP.ExceptionRequest.var\"#exceptions#1#3\"{typeof(HTTP.StreamRequest.streamlayer)}}}}}}}}}}}}}})(req::HTTP.Messages.Request; redirect::Bool, redirect_limit::Int64, redirect_method::Nothing, forwardheaders::Bool, response_stream::Nothing, kw::Base.Pairs{Symbol, Int64, Tuple{Symbol}, NamedTuple{(:verbose,), Tuple{Int64}}})",
      "    @ HTTP.RedirectRequest C:\\Users\\Pony\\.julia\\packages\\HTTP\\SN7VW\\src\\clientlayers\\RedirectRequest.jl:25",
      " [10] redirects",
      "    @ C:\\Users\\Pony\\.julia\\packages\\HTTP\\SN7VW\\src\\clientlayers\\RedirectRequest.jl:14 [inlined]",
      " [11] (::HTTP.MessageRequest.var\"#makerequest#3\"{HTTP.MessageRequest.var\"#makerequest#1#4\"{HTTP.RedirectRequest.var\"#redirects#3\"{HTTP.RedirectRequest.var\"#redirects#1#4\"{HTTP.HeadersRequest.var\"#defaultheaders#2\"{HTTP.HeadersRequest.var\"#defaultheaders#1#3\"{HTTP.CookieRequest.var\"#managecookies#4\"{HTTP.CookieRequest.var\"#managecookies#1#5\"{HTTP.RetryRequest.var\"#manageretries#3\"{HTTP.RetryRequest.var\"#manageretries#1#4\"{HTTP.ConnectionRequest.var\"#connections#4\"{HTTP.ConnectionRequest.var\"#connections#1#5\"{HTTP.TimeoutRequest.var\"#timeouts#3\"{HTTP.TimeoutRequest.var\"#timeouts#1#4\"{HTTP.ExceptionRequest.var\"#exceptions#2\"{HTTP.ExceptionRequest.var\"#exceptions#1#3\"{typeof(HTTP.StreamRequest.streamlayer)}}}}}}}}}}}}}}}})(method::String, url::URIs.URI, headers::Nothing, body::Vector{UInt8}; copyheaders::Bool, response_stream::Nothing, http_version::HTTP.Strings.HTTPVersion, verbose::Int64, kw::Base.Pairs{Symbol, Union{}, Tuple{}, NamedTuple{(), Tuple{}}})",
      "    @ HTTP.MessageRequest C:\\Users\\Pony\\.julia\\packages\\HTTP\\SN7VW\\src\\clientlayers\\MessageRequest.jl:35",
      " [12] makerequest",
      "    @ C:\\Users\\Pony\\.julia\\packages\\HTTP\\SN7VW\\src\\clientlayers\\MessageRequest.jl:24 [inlined]",
      " [13] request(stack::HTTP.MessageRequest.var\"#makerequest#3\"{HTTP.MessageRequest.var\"#makerequest#1#4\"{HTTP.RedirectRequest.var\"#redirects#3\"{HTTP.RedirectRequest.var\"#redirects#1#4\"{HTTP.HeadersRequest.var\"#defaultheaders#2\"{HTTP.HeadersRequest.var\"#defaultheaders#1#3\"{HTTP.CookieRequest.var\"#managecookies#4\"{HTTP.CookieRequest.var\"#managecookies#1#5\"{HTTP.RetryRequest.var\"#manageretries#3\"{HTTP.RetryRequest.var\"#manageretries#1#4\"{HTTP.ConnectionRequest.var\"#connections#4\"{HTTP.ConnectionRequest.var\"#connections#1#5\"{HTTP.TimeoutRequest.var\"#timeouts#3\"{HTTP.TimeoutRequest.var\"#timeouts#1#4\"{HTTP.ExceptionRequest.var\"#exceptions#2\"{HTTP.ExceptionRequest.var\"#exceptions#1#3\"{typeof(HTTP.StreamRequest.streamlayer)}}}}}}}}}}}}}}}}, method::String, url::String, h::Nothing, b::Vector{UInt8}, q::Nothing; headers::Nothing, body::Vector{UInt8}, query::Nothing, kw::Base.Pairs{Symbol, Union{}, Tuple{}, NamedTuple{(), Tuple{}}})",
      "    @ HTTP C:\\Users\\Pony\\.julia\\packages\\HTTP\\SN7VW\\src\\HTTP.jl:457",
      " [14] request(stack::Function, method::String, url::String, h::Nothing, b::Vector{UInt8}, q::Nothing)",
      "    @ HTTP C:\\Users\\Pony\\.julia\\packages\\HTTP\\SN7VW\\src\\HTTP.jl:455",
      " [15] #request#20",
      "    @ C:\\Users\\Pony\\.julia\\packages\\HTTP\\SN7VW\\src\\HTTP.jl:315 [inlined]",
      " [16] request (repeats 2 times)",
      "    @ C:\\Users\\Pony\\.julia\\packages\\HTTP\\SN7VW\\src\\HTTP.jl:313 [inlined]",
      " [17] #get#38",
      "    @ C:\\Users\\Pony\\.julia\\packages\\HTTP\\SN7VW\\src\\HTTP.jl:518 [inlined]",
      " [18] get(a::String)",
      "    @ HTTP C:\\Users\\Pony\\.julia\\packages\\HTTP\\SN7VW\\src\\HTTP.jl:518",
      " [19] top-level scope",
      "    @ .\\In[28]:16"
     ]
    }
   ],
   "source": [
    "\n",
    "# 假设您有一个名为 `Location` 的数据框，包含 `Latitude` 和 `Longitude` 列\n",
    "# 创建一个新列以存储高程信息\n",
    "Location_Noninjury[!, \"Elevation\"] .=  0.0\n",
    "\n",
    "# 遍历数据框中的每一行\n",
    "for row in eachrow(Location_Noninjury)\n",
    "    # 提取Latitude和Longitude\n",
    "    latitude = row.Latitude\n",
    "    longitude = row.Longitude\n",
    "\n",
    "    # 构建API请求URL\n",
    "    url = \"https://api.open-elevation.com/api/v1/lookup?locations=$latitude,$longitude\"\n",
    "\n",
    "    # 发送HTTP GET请求并解析响应\n",
    "    response = HTTP.get(url)\n",
    "    data = JSON.parse(String(response.body))\n",
    "\n",
    "    # 提取高程信息并添加到数据框中\n",
    "    if haskey(data, \"results\") && !isempty(data[\"results\"])\n",
    "        row.Elevation = data[\"results\"][1][\"elevation\"]\n",
    "    end\n",
    "\n",
    "    # 为了避免频繁请求，您可以在每个请求之间添加适当的延迟\n",
    "    sleep(1)  # 1秒的延迟（根据需要调整）\n",
    "end\n",
    "\n",
    "\n"
   ]
  }
 ],
 "metadata": {
  "kernelspec": {
   "display_name": "Julia 1.9.2",
   "language": "julia",
   "name": "julia-1.9"
  },
  "language_info": {
   "file_extension": ".jl",
   "mimetype": "application/julia",
   "name": "julia",
   "version": "1.9.2"
  }
 },
 "nbformat": 4,
 "nbformat_minor": 4
}
